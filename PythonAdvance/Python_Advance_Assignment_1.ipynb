{
 "cells": [
  {
   "cell_type": "markdown",
   "id": "9999b5ab",
   "metadata": {},
   "source": [
    "Q1. What is the purpose of Python's OOP?"
   ]
  },
  {
   "cell_type": "markdown",
   "id": "0280ded0",
   "metadata": {},
   "source": [
    "The purpose of Python's object-oriented programming (OOP) is to provide a way to structure and organize code by creating reusable and modular components called classes. OOP allows for the implementation of concepts such as encapsulation, inheritance, and polymorphism, which promote code reuse, modularity, and maintainability. It helps in building complex applications by organizing code into objects that interact with each other."
   ]
  },
  {
   "cell_type": "markdown",
   "id": "62ddde5b",
   "metadata": {},
   "source": [
    "Q2. Where does an inheritance search look for an attribute?"
   ]
  },
  {
   "cell_type": "markdown",
   "id": "630cda5a",
   "metadata": {},
   "source": [
    "An inheritance search looks for an attribute first in the instance object itself. If the attribute is not found, it then searches in the class of the instance. If the attribute is still not found, the search continues in the superclass (parent class), and so on, following the inheritance hierarchy until the attribute is found or the search reaches the topmost superclass (object class)."
   ]
  },
  {
   "cell_type": "markdown",
   "id": "b99537f4",
   "metadata": {},
   "source": [
    "Q3. How do you distinguish between a class object and an instance object?"
   ]
  },
  {
   "cell_type": "markdown",
   "id": "0fe40cc7",
   "metadata": {},
   "source": [
    "A class object is the blueprint or template for creating instances (objects) of that class. It defines the attributes and behaviors that all instances of the class will have. On the other hand, an instance object is a specific object created from a class. It represents a unique occurrence or instance of the class and has its own set of attribute values."
   ]
  },
  {
   "cell_type": "markdown",
   "id": "6136d9e3",
   "metadata": {},
   "source": [
    "Q4. What makes the first argument in a class’s method function special?"
   ]
  },
  {
   "cell_type": "markdown",
   "id": "8f160fcc",
   "metadata": {},
   "source": [
    "The first argument in a class's method function, conventionally named self, is a reference to the instance object that the method is called on. It allows the method to access and manipulate the attributes and behaviors of the specific instance. By convention, the first argument is always present in the method definition, even though it is not explicitly passed when calling the method."
   ]
  },
  {
   "cell_type": "markdown",
   "id": "079cf3f8",
   "metadata": {},
   "source": [
    "Q5. What is the purpose of the __init__ method?"
   ]
  },
  {
   "cell_type": "markdown",
   "id": "516420d7",
   "metadata": {},
   "source": [
    "The __init__ method is a special method in Python classes that is automatically called when an instance of the class is created. It is used to initialize the attributes of the object and perform any necessary setup. The __init__ method is commonly used to pass initial values for the instance variables and set up the object's initial state."
   ]
  },
  {
   "cell_type": "markdown",
   "id": "1e27783d",
   "metadata": {},
   "source": [
    "Q6. What is the process for creating a class instance?"
   ]
  },
  {
   "cell_type": "markdown",
   "id": "8fb8c67b",
   "metadata": {},
   "source": [
    "The process for creating a class instance involves calling the class as if it were a function, passing any necessary arguments to the class's __init__ method. The __init__ method is responsible for initializing the instance attributes and setting up the object's initial state. For example:"
   ]
  },
  {
   "cell_type": "code",
   "execution_count": 2,
   "id": "12e12aac",
   "metadata": {},
   "outputs": [],
   "source": [
    "class MyClass:\n",
    "    def __init__(self, arg1, arg2):\n",
    "        self.attribute1 = arg1\n",
    "        self.attribute2 = arg2\n",
    "\n",
    "# Creating an instance of MyClass\n",
    "value1 = 10\n",
    "value2 = 20\n",
    "my_instance = MyClass(value1, value2)\n"
   ]
  },
  {
   "cell_type": "markdown",
   "id": "86d72a02",
   "metadata": {},
   "source": [
    "Q7. What is the process for creating a class?"
   ]
  },
  {
   "cell_type": "markdown",
   "id": "2eeff955",
   "metadata": {},
   "source": [
    "The process for creating a class involves defining the class using the class keyword, specifying the class name and any necessary class attributes and methods. The class definition serves as a blueprint or template for creating instances of that class. For example:"
   ]
  },
  {
   "cell_type": "code",
   "execution_count": 4,
   "id": "e2f7b82c",
   "metadata": {},
   "outputs": [],
   "source": [
    "class MyClass:\n",
    "    class_attribute = 10\n",
    "\n",
    "    def __init__(self, arg):\n",
    "        self.instance_attribute = arg\n",
    "\n",
    "    def instance_method(self):\n",
    "        # Code for the instance method\n",
    "        print(value1)\n",
    "\n",
    "# Creating an instance of MyClass\n",
    "my_instance = MyClass(value1)\n"
   ]
  },
  {
   "cell_type": "markdown",
   "id": "b63c1f4b",
   "metadata": {},
   "source": [
    "Q8. How would you define the superclasses of a class?"
   ]
  },
  {
   "cell_type": "markdown",
   "id": "01cf4c72",
   "metadata": {},
   "source": [
    "The superclasses of a class are the classes from which it directly or indirectly inherits. In Python, a class can inherit from one or more superclasses using the concept of multiple inheritance. The superclasses are specified in the class definition by including them in parentheses after the class name, separated by commas. For example:"
   ]
  },
  {
   "cell_type": "code",
   "execution_count": 7,
   "id": "95594e66",
   "metadata": {},
   "outputs": [
    {
     "name": "stdout",
     "output_type": "stream",
     "text": [
      "SuperClass1 method\n",
      "SuperClass2 method\n"
     ]
    }
   ],
   "source": [
    "class SuperClass1:\n",
    "    def method1(self):\n",
    "        print(\"SuperClass1 method\")\n",
    "\n",
    "class SuperClass2:\n",
    "    def method2(self):\n",
    "        print(\"SuperClass2 method\")\n",
    "\n",
    "class SubClass(SuperClass1, SuperClass2):\n",
    "    pass\n",
    "\n",
    "# Creating an instance of SubClass\n",
    "sub_instance = SubClass()\n",
    "\n",
    "# Accessing methods from SuperClass1 and SuperClass2\n",
    "sub_instance.method1()  # Output: SuperClass1 method\n",
    "sub_instance.method2()  # Output: SuperClass2 method\n"
   ]
  },
  {
   "cell_type": "markdown",
   "id": "269d9006",
   "metadata": {},
   "source": [
    "In this code, SuperClass1 and SuperClass2 are defined as separate classes with their own methods. The SubClass is then created with SuperClass1 and SuperClass2 as its superclasses. The pass statement is used as a placeholder for the class definition.\n",
    "\n",
    "After creating an instance of SubClass, you can access the methods method1() and method2() from both SuperClass1 and SuperClass2 using the instance of SubClass."
   ]
  }
 ],
 "metadata": {
  "kernelspec": {
   "display_name": "Python 3",
   "language": "python",
   "name": "python3"
  },
  "language_info": {
   "codemirror_mode": {
    "name": "ipython",
    "version": 3
   },
   "file_extension": ".py",
   "mimetype": "text/x-python",
   "name": "python",
   "nbconvert_exporter": "python",
   "pygments_lexer": "ipython3",
   "version": "3.9.13"
  }
 },
 "nbformat": 4,
 "nbformat_minor": 5
}
