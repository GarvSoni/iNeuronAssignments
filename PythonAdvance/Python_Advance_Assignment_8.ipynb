{
 "cells": [
  {
   "cell_type": "markdown",
   "id": "a28ad77c",
   "metadata": {},
   "source": [
    "Q1. What are the two latest user-defined exception constraints in Python 3.X?"
   ]
  },
  {
   "cell_type": "markdown",
   "id": "0ba51559",
   "metadata": {},
   "source": [
    "The two latest user-defined exception constraints in Python 3.X are:\n",
    "\n",
    "- Exception chaining: It allows an exception to retain the original traceback information while being raised from within another exception.\n",
    "- Exception cause: It allows an exception to specify another exception as its cause, providing additional information about the underlying reason for the exception."
   ]
  },
  {
   "cell_type": "markdown",
   "id": "5f60e49d",
   "metadata": {},
   "source": [
    "Q2. How are class-based exceptions that have been raised matched to handlers?"
   ]
  },
  {
   "cell_type": "markdown",
   "id": "136a6cf9",
   "metadata": {},
   "source": [
    "Class-based exceptions that have been raised are matched to handlers based on their inheritance hierarchy. Python searches for the most specific handler first by traversing the inheritance chain of the exception classes. If a matching handler is found, it will be executed."
   ]
  },
  {
   "cell_type": "markdown",
   "id": "f9580220",
   "metadata": {},
   "source": [
    "Q3. Describe two methods for attaching context information to exception artefacts."
   ]
  },
  {
   "cell_type": "markdown",
   "id": "d78b22d6",
   "metadata": {},
   "source": [
    "Two methods for attaching context information to exception artifacts are:\n",
    "- Adding custom attributes: You can add custom attributes to the exception object to store additional information related to the exception. These attributes can be accessed in the exception handlers to provide more context about the exception.\n",
    "- Using exception arguments: When raising an exception, you can pass arguments that provide context information. These arguments can be accessed in the exception handlers using the args attribute of the exception object."
   ]
  },
  {
   "cell_type": "markdown",
   "id": "405ed3dd",
   "metadata": {},
   "source": [
    "Q4. Describe two methods for specifying the text of an exception object&#39;s error message."
   ]
  },
  {
   "cell_type": "markdown",
   "id": "d99d3fec",
   "metadata": {},
   "source": [
    "Two methods for specifying the text of an exception object's error message are:\n",
    "- Defining the __str__() method: By defining the __str__() method in the exception class, you can customize the error message that is displayed when the exception is printed or converted to a string.\n",
    "- Passing a message string to the exception constructor: When raising an exception, you can pass a message string as an argument to the exception constructor to specify the error message. This message can be accessed in the exception handlers using the args attribute of the exception object."
   ]
  },
  {
   "cell_type": "markdown",
   "id": "58daa897",
   "metadata": {},
   "source": [
    "Q5. Why do you no longer use string-based exceptions?"
   ]
  },
  {
   "cell_type": "markdown",
   "id": "653fd412",
   "metadata": {},
   "source": [
    "String-based exceptions are no longer used because they are less flexible and less informative compared to class-based exceptions. Class-based exceptions allow for more structured and customizable error handling. They provide additional features such as inheritance, attributes, and methods, making it easier to handle and manage exceptions in a consistent and organized manner."
   ]
  }
 ],
 "metadata": {
  "kernelspec": {
   "display_name": "Python 3",
   "language": "python",
   "name": "python3"
  },
  "language_info": {
   "codemirror_mode": {
    "name": "ipython",
    "version": 3
   },
   "file_extension": ".py",
   "mimetype": "text/x-python",
   "name": "python",
   "nbconvert_exporter": "python",
   "pygments_lexer": "ipython3",
   "version": "3.9.13"
  }
 },
 "nbformat": 4,
 "nbformat_minor": 5
}
