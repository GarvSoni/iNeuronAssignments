{
 "cells": [
  {
   "cell_type": "markdown",
   "id": "e6bccee3",
   "metadata": {},
   "source": [
    "Q1. What is the meaning of multiple inheritance?"
   ]
  },
  {
   "cell_type": "markdown",
   "id": "10243445",
   "metadata": {},
   "source": [
    "Multiple inheritance is a feature in object-oriented programming where a class can inherit attributes and methods from more than one parent class. It allows a subclass to inherit and combine the characteristics and behaviors of multiple parent classes."
   ]
  },
  {
   "cell_type": "markdown",
   "id": "da6c7b49",
   "metadata": {},
   "source": [
    "Q2. What is the concept of delegation?"
   ]
  },
  {
   "cell_type": "markdown",
   "id": "210c03f3",
   "metadata": {},
   "source": [
    " Delegation is a design pattern in which an object forwards a specific task or responsibility to another object, known as the delegate, to perform the task on its behalf. It allows objects to share or divide responsibilities, promoting modularity and code reuse."
   ]
  },
  {
   "cell_type": "markdown",
   "id": "35e52fd3",
   "metadata": {},
   "source": [
    "Q3. What is the concept of composition?"
   ]
  },
  {
   "cell_type": "markdown",
   "id": "7871b8e9",
   "metadata": {},
   "source": [
    "Composition is a concept in object-oriented programming where a class includes objects of other classes as member variables. It allows building complex objects by combining simpler objects, enabling code reuse, flexibility, and modular design."
   ]
  },
  {
   "cell_type": "markdown",
   "id": "b4c060a5",
   "metadata": {},
   "source": [
    "Q4. What are bound methods and how do we use them?\n"
   ]
  },
  {
   "cell_type": "markdown",
   "id": "9572bf55",
   "metadata": {},
   "source": [
    "Bound methods are methods that are associated with a specific instance of a class. They are created when a method is accessed through an instance, and the instance is automatically passed as the first argument (usually named self) to the method. Bound methods can access and manipulate the instance's attributes and other methods."
   ]
  },
  {
   "cell_type": "markdown",
   "id": "c37abc8a",
   "metadata": {},
   "source": [
    "Q5. What is the purpose of pseudoprivate attributes?"
   ]
  },
  {
   "cell_type": "markdown",
   "id": "f79fa7ab",
   "metadata": {},
   "source": [
    "Pseudoprivate attributes (also known as name mangling) in Python are attributes that are prefixed with double underscores (__). They are intended to provide name privacy or name mangling within a class, making the attribute harder to accidentally access or override from outside the class. However, they are not true private attributes, and they can still be accessed using a different name mangling scheme (_ClassName__attribute). The purpose of pseudoprivate attributes is to prevent naming conflicts and accidental modification of attributes in subclasses or external code."
   ]
  }
 ],
 "metadata": {
  "kernelspec": {
   "display_name": "Python 3",
   "language": "python",
   "name": "python3"
  },
  "language_info": {
   "codemirror_mode": {
    "name": "ipython",
    "version": 3
   },
   "file_extension": ".py",
   "mimetype": "text/x-python",
   "name": "python",
   "nbconvert_exporter": "python",
   "pygments_lexer": "ipython3",
   "version": "3.9.13"
  }
 },
 "nbformat": 4,
 "nbformat_minor": 5
}
