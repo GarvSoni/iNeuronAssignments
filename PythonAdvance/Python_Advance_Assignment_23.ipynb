{
 "cells": [
  {
   "cell_type": "markdown",
   "id": "d78b1e8f",
   "metadata": {},
   "source": [
    "Q1. If you have any, what are your choices for increasing the comparison between different figures on\n",
    "the same graph?"
   ]
  },
  {
   "cell_type": "markdown",
   "id": "b31a3ec2",
   "metadata": {},
   "source": [
    "To increase the comparison between different figures on the same graph, you can adjust the scaling or range of the axes, use different colors or patterns for each figure, or add annotations or labels to highlight important information."
   ]
  },
  {
   "cell_type": "markdown",
   "id": "9a7c0ebb",
   "metadata": {},
   "source": [
    "Q2. Can you explain the benefit of compound interest over a higher rate of interest that does not\n",
    "compound after reading this chapter?"
   ]
  },
  {
   "cell_type": "markdown",
   "id": "67b6659e",
   "metadata": {},
   "source": [
    "Compound interest provides the benefit of earning interest not only on the initial principal amount but also on the accumulated interest over time. This allows for exponential growth of the investment, leading to higher returns compared to a higher rate of interest that does not compound."
   ]
  },
  {
   "cell_type": "markdown",
   "id": "a4ae61a7",
   "metadata": {},
   "source": [
    "Q3. What is a histogram, exactly? Name a numpy method for creating such a graph."
   ]
  },
  {
   "cell_type": "markdown",
   "id": "c76ff36a",
   "metadata": {},
   "source": [
    "A histogram is a graphical representation of the distribution of a dataset. It displays the frequencies of different values or ranges of values in a dataset. The numpy method for creating a histogram is numpy.histogram()."
   ]
  },
  {
   "cell_type": "markdown",
   "id": "8f8c6e0d",
   "metadata": {},
   "source": [
    "Q4. If necessary, how do you change the aspect ratios between the X and Y axes?"
   ]
  },
  {
   "cell_type": "markdown",
   "id": "d7b2f3d2",
   "metadata": {},
   "source": [
    "To change the aspect ratios between the X and Y axes, you can use the matplotlib library's plt.axis() function or the Axes.set_aspect() method. By specifying different scaling factors for the X and Y axes, you can adjust the aspect ratios."
   ]
  },
  {
   "cell_type": "markdown",
   "id": "4a2b46f6",
   "metadata": {},
   "source": [
    "Q5. Compare and contrast the three types of array multiplication between two numpy arrays: dot\n",
    "product, outer product, and regular multiplication of two numpy arrays."
   ]
  },
  {
   "cell_type": "markdown",
   "id": "ced55c73",
   "metadata": {},
   "source": [
    "The three types of array multiplication between two numpy arrays are:\n",
    "\n",
    "Dot product: It performs matrix multiplication between two arrays. It is achieved using the numpy.dot() function or the @ operator.\n",
    "Outer product: It computes the outer product of two vectors to produce a matrix. It is obtained using the numpy.outer() function.\n",
    "Regular multiplication: It performs element-wise multiplication between the corresponding elements of two arrays. It is done using the * operator or the numpy.multiply() function."
   ]
  },
  {
   "cell_type": "markdown",
   "id": "1122533e",
   "metadata": {},
   "source": [
    "Q6. Before you buy a home, which numpy function will you use to measure your monthly mortgage\n",
    "payment?"
   ]
  },
  {
   "cell_type": "markdown",
   "id": "f3350b91",
   "metadata": {},
   "source": [
    " Before buying a home, you can use the numpy.pmt() function to calculate the monthly mortgage payment. This function calculates the payment amount for a loan given the interest rate, loan term, and loan amount."
   ]
  },
  {
   "cell_type": "markdown",
   "id": "1ad02be5",
   "metadata": {},
   "source": [
    "Q7. Can string data be stored in numpy arrays? If so, list at least one restriction that applies to this\n",
    "data."
   ]
  },
  {
   "cell_type": "markdown",
   "id": "fb98823f",
   "metadata": {},
   "source": [
    "Yes, string data can be stored in numpy arrays, but there is a restriction that all elements in a numpy array must have the same fixed size. If the string lengths vary, the array will be padded with extra characters to match the length of the longest string, leading to potential memory inefficiency."
   ]
  }
 ],
 "metadata": {
  "kernelspec": {
   "display_name": "Python 3",
   "language": "python",
   "name": "python3"
  },
  "language_info": {
   "codemirror_mode": {
    "name": "ipython",
    "version": 3
   },
   "file_extension": ".py",
   "mimetype": "text/x-python",
   "name": "python",
   "nbconvert_exporter": "python",
   "pygments_lexer": "ipython3",
   "version": "3.9.13"
  }
 },
 "nbformat": 4,
 "nbformat_minor": 5
}
