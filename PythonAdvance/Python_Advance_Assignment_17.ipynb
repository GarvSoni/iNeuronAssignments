{
 "cells": [
  {
   "cell_type": "markdown",
   "id": "53e83322",
   "metadata": {},
   "source": [
    "Q1. Explain the difference between greedy and non-greedy syntax with visual terms in as few words\n",
    "as possible. What is the bare minimum effort required to transform a greedy pattern into a non-greedy\n",
    "one? What characters or characters can you introduce or change?"
   ]
  },
  {
   "cell_type": "markdown",
   "id": "5e9dadfe",
   "metadata": {},
   "source": [
    "The difference between greedy and non-greedy syntax in regular expressions is:\n",
    "\n",
    "- Greedy: Matches as much as possible while still allowing the overall pattern to match. It tries to consume as many characters as it can.\n",
    "- Non-greedy: Matches as little as possible while still allowing the overall pattern to match. It tries to consume as few characters as possible.\n",
    "- To transform a greedy pattern into a non-greedy one, you can introduce a question mark (?) after the quantifier (e.g., *?, +?, ??) or change the quantifier to its non-greedy version (e.g., * -> *?, + -> +?, ? -> ??)."
   ]
  },
  {
   "cell_type": "markdown",
   "id": "c7431687",
   "metadata": {},
   "source": [
    "Q2. When exactly does greedy versus non-greedy make a difference?  What if you&#39;re looking for a\n",
    "non-greedy match but the only one available is greedy?"
   ]
  },
  {
   "cell_type": "markdown",
   "id": "82cdd229",
   "metadata": {},
   "source": [
    "Greedy versus non-greedy makes a difference when there are multiple possible matches for a pattern and you want to match the shortest possible substring. If the only available match is greedy, it will consume more characters than desired. In such cases, you may need to modify the pattern or introduce additional constraints to achieve a non-greedy match."
   ]
  },
  {
   "cell_type": "markdown",
   "id": "eb2d5683",
   "metadata": {},
   "source": [
    "Q3. In a simple match of a string, which looks only for one match and does not do any replacement, is\n",
    "the use of a nontagged group likely to make any practical difference?"
   ]
  },
  {
   "cell_type": "markdown",
   "id": "b2267c5c",
   "metadata": {},
   "source": [
    "In a simple match of a string without replacement, using a non-tagged group (a group without capturing parentheses) is unlikely to make a practical difference. Non-tagged groups are primarily used when you need to group expressions without capturing the matched substring."
   ]
  },
  {
   "cell_type": "markdown",
   "id": "ddbc4298",
   "metadata": {},
   "source": [
    "Q4. Describe a scenario in which using a nontagged category would have a significant impact on the\n",
    "program&#39;s outcomes."
   ]
  },
  {
   "cell_type": "markdown",
   "id": "360332dd",
   "metadata": {},
   "source": [
    "A scenario in which using a non-tagged category can have a significant impact on the program's outcomes is when you want to apply quantifiers or modifiers to a specific group within the pattern but do not want to capture the matched substring."
   ]
  },
  {
   "cell_type": "markdown",
   "id": "f06d8ff0",
   "metadata": {},
   "source": [
    "Q5. Unlike a normal regex pattern, a look-ahead condition does not consume the characters it\n",
    "examines. Describe a situation in which this could make a difference in the results of your\n",
    "programme."
   ]
  },
  {
   "cell_type": "markdown",
   "id": "77ef6804",
   "metadata": {},
   "source": [
    "A look-ahead condition in a regular expression allows you to examine characters ahead of the current position without consuming them. This can make a difference in the results of a program when you need to match a pattern based on the presence or absence of specific characters without including them in the final match."
   ]
  },
  {
   "cell_type": "markdown",
   "id": "bf2bfd14",
   "metadata": {},
   "source": [
    "Q6. In standard expressions, what is the difference between positive look-ahead and negative look-\n",
    "ahead?"
   ]
  },
  {
   "cell_type": "markdown",
   "id": "43ae7207",
   "metadata": {},
   "source": [
    "The difference between positive look-ahead and negative look-ahead in regular expressions is:\n",
    "\n",
    "Positive look-ahead: Matches a pattern only if it is followed by another pattern. It is specified using the syntax (?=...).\n",
    "Negative look-ahead: Matches a pattern only if it is not followed by another pattern. It is specified using the syntax (?!...)."
   ]
  },
  {
   "cell_type": "markdown",
   "id": "71c2552d",
   "metadata": {},
   "source": [
    "Q7. What is the benefit of referring to groups by name rather than by number in a standard\n",
    "expression?"
   ]
  },
  {
   "cell_type": "markdown",
   "id": "d30a089f",
   "metadata": {},
   "source": [
    "The benefit of referring to groups by name rather than by number in a standard expression is increased code readability and maintainability. Group names provide descriptive labels for capturing groups, making it easier to understand the purpose of each group in the pattern."
   ]
  },
  {
   "cell_type": "markdown",
   "id": "97d7d619",
   "metadata": {},
   "source": [
    "Q8. Can you identify repeated items within a target string using named groups, as in &quot;The cow\n",
    "jumped over the moon&quot;?"
   ]
  },
  {
   "cell_type": "markdown",
   "id": "d15b59c6",
   "metadata": {},
   "source": [
    " Yes, you can identify repeated items within a target string using named groups in a regular expression pattern. By assigning a name to a capturing group, you can later reference that group by its name and access the matched substring."
   ]
  },
  {
   "cell_type": "markdown",
   "id": "5c601e6e",
   "metadata": {},
   "source": [
    "Q9. When parsing a string, what is at least one thing that the Scanner interface does for you that the\n",
    "re.findall feature does not?"
   ]
  },
  {
   "cell_type": "markdown",
   "id": "8e6162d4",
   "metadata": {},
   "source": [
    " When parsing a string, the Scanner interface provides additional functionality compared to the re.findall feature. The Scanner interface allows you to scan through a string and find occurrences of specific patterns while keeping track of the scan position. It provides methods to retrieve matched substrings, skip delimiters, and handle different token types, making string parsing tasks more convenient."
   ]
  },
  {
   "cell_type": "markdown",
   "id": "8567ae35",
   "metadata": {},
   "source": [
    "Q10. Does a scanner object have to be named scanner?"
   ]
  },
  {
   "cell_type": "markdown",
   "id": "f8cbf15c",
   "metadata": {},
   "source": [
    "No, a Scanner object does not have to be named \"scanner\". The name of the object is arbitrary and can be chosen according to your preference. The important thing is to use a consistent and meaningful name that reflects the purpose of the object in your code."
   ]
  }
 ],
 "metadata": {
  "kernelspec": {
   "display_name": "Python 3",
   "language": "python",
   "name": "python3"
  },
  "language_info": {
   "codemirror_mode": {
    "name": "ipython",
    "version": 3
   },
   "file_extension": ".py",
   "mimetype": "text/x-python",
   "name": "python",
   "nbconvert_exporter": "python",
   "pygments_lexer": "ipython3",
   "version": "3.9.13"
  }
 },
 "nbformat": 4,
 "nbformat_minor": 5
}
