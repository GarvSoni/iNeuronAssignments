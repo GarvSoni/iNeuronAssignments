{
 "cells": [
  {
   "cell_type": "markdown",
   "id": "c5713e89",
   "metadata": {},
   "source": [
    "Q1. What is a probability distribution, exactly? If the values are meant to be random, how can you\n",
    "predict them at all?"
   ]
  },
  {
   "cell_type": "markdown",
   "id": "652836a7",
   "metadata": {},
   "source": [
    "A probability distribution describes the likelihood of different outcomes or events occurring. It provides a mathematical representation of the probabilities associated with each possible value or range of values. While the values may be random, a probability distribution allows us to predict the likelihood of certain outcomes based on probability theory and statistical analysis."
   ]
  },
  {
   "cell_type": "markdown",
   "id": "bf389ca3",
   "metadata": {},
   "source": [
    "Q2. Is there a distinction between true random numbers and pseudo-random numbers, if there is\n",
    "one? Why are the latter considered “good enough”?"
   ]
  },
  {
   "cell_type": "markdown",
   "id": "12c68409",
   "metadata": {},
   "source": [
    "True random numbers are generated from a physical process that is inherently unpredictable, such as atmospheric noise or radioactive decay. Pseudo-random numbers, on the other hand, are generated using algorithms that produce a sequence of numbers that appear random but are deterministic. While they are not truly random, pseudo-random numbers are considered \"good enough\" for many applications because they exhibit properties of randomness and satisfy statistical tests."
   ]
  },
  {
   "cell_type": "markdown",
   "id": "f53c0d0b",
   "metadata": {},
   "source": [
    "Q3. What are the two main factors that influence the behaviour of a &quot;normal&quot; probability distribution?"
   ]
  },
  {
   "cell_type": "markdown",
   "id": "c6f135ee",
   "metadata": {},
   "source": [
    "The two main factors that influence the behavior of a \"normal\" probability distribution are the mean (average) and the standard deviation. The mean determines the central tendency of the distribution, while the standard deviation measures the spread or variability of the values around the mean."
   ]
  },
  {
   "cell_type": "markdown",
   "id": "48976cce",
   "metadata": {},
   "source": [
    "Q4. Provide a real-life example of a normal distribution."
   ]
  },
  {
   "cell_type": "markdown",
   "id": "39cfd6cc",
   "metadata": {},
   "source": [
    "A real-life example of a normal distribution is the distribution of heights in a population. In many populations, height follows a normal distribution, with the majority of individuals clustered around the mean height and fewer individuals at the extremes (very tall or very short)."
   ]
  },
  {
   "cell_type": "markdown",
   "id": "c97fec6b",
   "metadata": {},
   "source": [
    "Q5. In the short term, how can you expect a probability distribution to behave? What do you think will\n",
    "happen as the number of trials grows?"
   ]
  },
  {
   "cell_type": "markdown",
   "id": "f6cc8c19",
   "metadata": {},
   "source": [
    "In the short term, the behavior of a probability distribution may not precisely match its expected probabilities. However, as the number of trials or observations increases, the distribution tends to converge to its expected behavior. This is known as the law of large numbers, which states that the average of a large number of independent and identically distributed random variables will converge to the expected value."
   ]
  },
  {
   "cell_type": "markdown",
   "id": "e3d088da",
   "metadata": {},
   "source": [
    "Q6. What kind of object can be shuffled by using random.shuffle?"
   ]
  },
  {
   "cell_type": "markdown",
   "id": "85b209bd",
   "metadata": {},
   "source": [
    "The random.shuffle function in Python can shuffle the elements of a list in a random order. It modifies the list in-place."
   ]
  },
  {
   "cell_type": "markdown",
   "id": "516492db",
   "metadata": {},
   "source": [
    "Q7. Describe the math package&#39;s general categories of functions."
   ]
  },
  {
   "cell_type": "markdown",
   "id": "0659c134",
   "metadata": {},
   "source": [
    "The math package in Python provides functions that cover several general categories, including mathematical constants (e.g., pi, e), arithmetic functions (e.g., exponentiation, logarithms), trigonometric functions (e.g., sine, cosine), and more advanced mathematical operations (e.g., factorial, gamma function)."
   ]
  },
  {
   "cell_type": "markdown",
   "id": "f904f769",
   "metadata": {},
   "source": [
    "Q8. What is the relationship between exponentiation and logarithms?"
   ]
  },
  {
   "cell_type": "markdown",
   "id": "97e8073a",
   "metadata": {},
   "source": [
    "Exponentiation and logarithms are inverse operations of each other. Exponentiation involves raising a base number to a power, while logarithms involve finding the exponent to which a base number must be raised to obtain a given value. They are used to solve equations and manipulate numbers with exponential relationships."
   ]
  },
  {
   "cell_type": "markdown",
   "id": "150357a1",
   "metadata": {},
   "source": [
    "Q9. What are the three logarithmic functions that Python supports?"
   ]
  },
  {
   "cell_type": "markdown",
   "id": "937fb5fc",
   "metadata": {},
   "source": [
    "Python supports three logarithmic functions: math.log(x) computes the natural logarithm (base e) of x, math.log10(x) computes the logarithm base 10 of x, and math.log(x, base) computes the logarithm of x with a specified base."
   ]
  }
 ],
 "metadata": {
  "kernelspec": {
   "display_name": "Python 3",
   "language": "python",
   "name": "python3"
  },
  "language_info": {
   "codemirror_mode": {
    "name": "ipython",
    "version": 3
   },
   "file_extension": ".py",
   "mimetype": "text/x-python",
   "name": "python",
   "nbconvert_exporter": "python",
   "pygments_lexer": "ipython3",
   "version": "3.9.13"
  }
 },
 "nbformat": 4,
 "nbformat_minor": 5
}
