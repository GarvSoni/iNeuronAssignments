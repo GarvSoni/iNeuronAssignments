{
 "cells": [
  {
   "cell_type": "markdown",
   "id": "63adbf15",
   "metadata": {},
   "source": [
    "Q1. What is the distinction between a numpy array and a pandas data frame? Is there a way to convert between the two if there is?"
   ]
  },
  {
   "cell_type": "markdown",
   "id": "7257127c",
   "metadata": {},
   "source": [
    "The distinction between a NumPy array and a Pandas DataFrame is that a NumPy array is a multidimensional homogeneous array of fixed-size items, whereas a Pandas DataFrame is a two-dimensional labeled data structure with columns of potentially different data types.\n",
    "Yes, it is possible to convert between a NumPy array and a Pandas DataFrame. You can create a DataFrame from a NumPy array using the pd.DataFrame() constructor. Conversely, you can convert a Pandas DataFrame to a NumPy array using the .values attribute of the DataFrame."
   ]
  },
  {
   "cell_type": "markdown",
   "id": "595e78a1",
   "metadata": {},
   "source": [
    "Q2. What can go wrong when an user enters in a stock-ticker symbol, and how do you handle it?"
   ]
  },
  {
   "cell_type": "markdown",
   "id": "5a0e21b0",
   "metadata": {},
   "source": [
    "When a user enters a stock-ticker symbol, some potential issues that can occur include incorrect or invalid symbols, missing data, or connectivity problems. To handle such situations, you can implement error handling mechanisms, such as checking for valid symbols using a stock API or providing meaningful error messages to the user. Additionally, you can handle missing data by implementing appropriate data validation and preprocessing techniques."
   ]
  },
  {
   "cell_type": "markdown",
   "id": "ac54d2b0",
   "metadata": {},
   "source": [
    "Q3. Identify some of the plotting techniques that are used to produce a stock-market chart."
   ]
  },
  {
   "cell_type": "markdown",
   "id": "25ab917c",
   "metadata": {},
   "source": [
    "Some plotting techniques commonly used to produce stock market charts include line plots, candlestick charts, OHLC (Open-High-Low-Close) charts, moving averages, volume charts, and various technical indicators such as MACD (Moving Average Convergence Divergence), RSI (Relative Strength Index), etc."
   ]
  },
  {
   "cell_type": "markdown",
   "id": "6c5a26ef",
   "metadata": {},
   "source": [
    "Q4. Why is it essential to print a legend on a stock market chart?"
   ]
  },
  {
   "cell_type": "markdown",
   "id": "e2b5a5c0",
   "metadata": {},
   "source": [
    " It is essential to print a legend on a stock market chart to provide a clear understanding of the information represented in the chart. The legend helps in associating different lines or markers on the chart with their corresponding data series or categories. It provides a key to interpreting the visual elements and enhances the chart's readability."
   ]
  },
  {
   "cell_type": "markdown",
   "id": "0cb7451c",
   "metadata": {},
   "source": [
    "Q5. What is the best way to limit the length of a pandas data frame to less than a year?"
   ]
  },
  {
   "cell_type": "markdown",
   "id": "186f90da",
   "metadata": {},
   "source": [
    "The best way to limit the length of a Pandas DataFrame to less than a year is by filtering the data based on the desired time range. You can use the datetime functionality in Pandas to extract the desired time range using conditions on the date or timestamp column of the DataFrame."
   ]
  },
  {
   "cell_type": "markdown",
   "id": "d885d7e1",
   "metadata": {},
   "source": [
    "Q6. What is the definition of a 180-day moving average?"
   ]
  },
  {
   "cell_type": "markdown",
   "id": "0b7cbf84",
   "metadata": {},
   "source": [
    "A 180-day moving average is a technical indicator used in financial analysis to smooth out price data and identify trends over a period of 180 days. It calculates the average of the closing prices of a security over the specified time window of 180 trading days."
   ]
  },
  {
   "cell_type": "markdown",
   "id": "18702e26",
   "metadata": {},
   "source": [
    "Q7. Did the chapter&#39;s final example use &quot;indirect&quot; importing? If so, how exactly do you do it?"
   ]
  },
  {
   "cell_type": "markdown",
   "id": "59eba7ae",
   "metadata": {},
   "source": [
    " The chapter's final example might have used \"indirect\" importing, which typically involves importing a module using an alias or importing specific objects from a module instead of importing the entire module. For example, instead of import pandas, one can use import pandas as pd to import the Pandas library with the alias pd. This allows you to refer to the imported module or objects using the alias (pd) instead of the full module name (pandas)."
   ]
  }
 ],
 "metadata": {
  "kernelspec": {
   "display_name": "Python 3",
   "language": "python",
   "name": "python3"
  },
  "language_info": {
   "codemirror_mode": {
    "name": "ipython",
    "version": 3
   },
   "file_extension": ".py",
   "mimetype": "text/x-python",
   "name": "python",
   "nbconvert_exporter": "python",
   "pygments_lexer": "ipython3",
   "version": "3.9.13"
  }
 },
 "nbformat": 4,
 "nbformat_minor": 5
}
