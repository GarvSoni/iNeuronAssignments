{
 "cells": [
  {
   "cell_type": "markdown",
   "id": "b9675bc7",
   "metadata": {},
   "source": [
    "Q1. What are the benefits of the built-in array package, if any?"
   ]
  },
  {
   "cell_type": "markdown",
   "id": "531c136e",
   "metadata": {},
   "source": [
    "The built-in array package in Python provides a more memory-efficient way to store and manipulate arrays compared to lists. It can be beneficial for applications that require efficient numerical computations and large datasets."
   ]
  },
  {
   "cell_type": "markdown",
   "id": "6105413a",
   "metadata": {},
   "source": [
    "Q2. What are some of the array package&#39;s limitations?"
   ]
  },
  {
   "cell_type": "markdown",
   "id": "107fab0c",
   "metadata": {},
   "source": [
    "Some limitations of the array package include the lack of support for multidimensional arrays, limited functionality for mathematical operations, and the requirement for elements to have the same data type."
   ]
  },
  {
   "cell_type": "markdown",
   "id": "5ef09911",
   "metadata": {},
   "source": [
    "Q3. Describe the main differences between the array and numpy packages."
   ]
  },
  {
   "cell_type": "markdown",
   "id": "042dd4d3",
   "metadata": {},
   "source": [
    "The main differences between the array and numpy packages are that numpy offers more advanced functionality and support for multidimensional arrays, along with a wide range of mathematical and numerical operations. Numpy also provides efficient and optimized implementations of array operations."
   ]
  },
  {
   "cell_type": "markdown",
   "id": "7938ad46",
   "metadata": {},
   "source": [
    "Q4. Explain the distinctions between the empty, ones, and zeros functions."
   ]
  },
  {
   "cell_type": "markdown",
   "id": "195992a7",
   "metadata": {},
   "source": [
    "The empty function in numpy creates an array with uninitialized values, the ones function creates an array filled with ones, and the zeros function creates an array filled with zeros."
   ]
  },
  {
   "cell_type": "markdown",
   "id": "8e2fabda",
   "metadata": {},
   "source": [
    "Q5. In the fromfunction function, which is used to construct new arrays, what is the role of the callable\n",
    "argument?"
   ]
  },
  {
   "cell_type": "markdown",
   "id": "8649751d",
   "metadata": {},
   "source": [
    "In the fromfunction function in numpy, the callable argument is a function that defines the values of the array based on the indices."
   ]
  },
  {
   "cell_type": "markdown",
   "id": "44c2e23b",
   "metadata": {},
   "source": [
    "Q6. What happens when a numpy array is combined with a single-value operand (a scalar, such as\n",
    "an int or a floating-point value) through addition, as in the expression A + n?"
   ]
  },
  {
   "cell_type": "markdown",
   "id": "6c2d28be",
   "metadata": {},
   "source": [
    "When a numpy array is combined with a single-value operand through addition, such as A + n, the single-value operand is broadcasted to match the shape of the array, and element-wise addition is performed between the corresponding elements of the array and the operand."
   ]
  },
  {
   "cell_type": "markdown",
   "id": "3b2252a5",
   "metadata": {},
   "source": [
    "Q7. Can array-to-scalar operations use combined operation-assign operators (such as += or *=)?\n",
    "What is the outcome?"
   ]
  },
  {
   "cell_type": "markdown",
   "id": "262e0aed",
   "metadata": {},
   "source": [
    "Array-to-scalar operations can use combined operation-assign operators like += or *=. The outcome is that the operation is applied element-wise to the array, and the array is modified in place."
   ]
  },
  {
   "cell_type": "markdown",
   "id": "401cc9e0",
   "metadata": {},
   "source": [
    "Q8. Does a numpy array contain fixed-length strings? What happens if you allocate a longer string to\n",
    "one of these arrays?"
   ]
  },
  {
   "cell_type": "markdown",
   "id": "8fd3a7b1",
   "metadata": {},
   "source": [
    "Yes, a numpy array can contain fixed-length strings. If you allocate a longer string to an array that has fixed-length strings, the longer string will be truncated to fit the specified length of the array."
   ]
  },
  {
   "cell_type": "markdown",
   "id": "ede68dd0",
   "metadata": {},
   "source": [
    "Q9. What happens when you combine two numpy arrays using an operation like addition (+) or\n",
    "multiplication (*)? What are the conditions for combining two numpy arrays?"
   ]
  },
  {
   "cell_type": "markdown",
   "id": "97915629",
   "metadata": {},
   "source": [
    "When two numpy arrays are combined using an operation like addition or multiplication, the operation is applied element-wise between the corresponding elements of the arrays. The arrays must have the same shape for element-wise operations to be performed."
   ]
  },
  {
   "cell_type": "markdown",
   "id": "2f396623",
   "metadata": {},
   "source": [
    "Q10. What is the best way to use a Boolean array to mask another array?"
   ]
  },
  {
   "cell_type": "markdown",
   "id": "c7d9540b",
   "metadata": {},
   "source": [
    "The best way to use a Boolean array as a mask for another array is to use the Boolean array as an index to select specific elements from the other array. This can be done by simply indexing the array with the Boolean array."
   ]
  },
  {
   "cell_type": "markdown",
   "id": "243290d3",
   "metadata": {},
   "source": [
    "Q11. What are three different ways to get the standard deviation of a wide collection of data using\n",
    "both standard Python and its packages? Sort the three of them by how quickly they execute."
   ]
  },
  {
   "cell_type": "markdown",
   "id": "faad5f90",
   "metadata": {},
   "source": [
    " Three different ways to calculate the standard deviation of a wide collection of data are:\n",
    "\n",
    "Using the statistics module in standard Python: statistics.stdev(data)\n",
    "Using the numpy package: numpy.std(data)\n",
    "Using the pandas package: data.std()"
   ]
  },
  {
   "cell_type": "markdown",
   "id": "32e65290",
   "metadata": {},
   "source": [
    "Q12. What is the dimensionality of a Boolean mask-generated array?"
   ]
  },
  {
   "cell_type": "markdown",
   "id": "8b78c0ce",
   "metadata": {},
   "source": [
    "A Boolean mask-generated array has the same dimensionality as the array it was generated from. The Boolean mask is used to select elements from the original array based on certain conditions, resulting in a new array with the same dimensions as the original array."
   ]
  }
 ],
 "metadata": {
  "kernelspec": {
   "display_name": "Python 3",
   "language": "python",
   "name": "python3"
  },
  "language_info": {
   "codemirror_mode": {
    "name": "ipython",
    "version": 3
   },
   "file_extension": ".py",
   "mimetype": "text/x-python",
   "name": "python",
   "nbconvert_exporter": "python",
   "pygments_lexer": "ipython3",
   "version": "3.9.13"
  }
 },
 "nbformat": 4,
 "nbformat_minor": 5
}
