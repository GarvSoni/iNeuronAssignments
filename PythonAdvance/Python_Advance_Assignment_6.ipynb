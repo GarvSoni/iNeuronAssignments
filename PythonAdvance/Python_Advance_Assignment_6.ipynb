{
 "cells": [
  {
   "cell_type": "markdown",
   "id": "6b820666",
   "metadata": {},
   "source": [
    "Q1. Describe three applications for exception processing."
   ]
  },
  {
   "cell_type": "markdown",
   "id": "0705ef0a",
   "metadata": {},
   "source": [
    "- Error handling: Exceptions allow you to gracefully handle errors or exceptional conditions that may occur during program execution. You can catch and handle specific types of exceptions, providing appropriate error messages or taking corrective actions.\n",
    "\n",
    "- Input validation: Exceptions can be used to validate user input or data before processing. If the input does not meet certain criteria or constraints, you can raise an exception to indicate invalid input and handle it accordingly.\n",
    "\n",
    "- Resource management: Exceptions are useful for managing resources, such as file handling or database connections. If an exception occurs while accessing or using a resource, you can ensure proper cleanup and release of resources in the exception handling code."
   ]
  },
  {
   "cell_type": "markdown",
   "id": "4d076640",
   "metadata": {},
   "source": [
    "Q2. What happens if you don't do something extra to treat an exception?"
   ]
  },
  {
   "cell_type": "markdown",
   "id": "0c90633a",
   "metadata": {},
   "source": [
    "- If you don't handle an exception, it will propagate up the call stack until it reaches the default exception handler, which can terminate the program and display an error message. This can lead to unexpected program termination and a poor user experience."
   ]
  },
  {
   "cell_type": "markdown",
   "id": "44589d92",
   "metadata": {},
   "source": [
    "Q3. What are your options for recovering from an exception in your script?"
   ]
  },
  {
   "cell_type": "markdown",
   "id": "651c72ae",
   "metadata": {},
   "source": [
    "- Using try-except blocks to catch and handle specific exceptions: You can wrap the code that may raise an exception inside a try block and specify the type of exception to catch in an except block. Within the except block, you can perform recovery actions, provide alternative processing, or display appropriate error messages.\n",
    "\n",
    "- Raising a different exception: If you catch an exception but cannot handle it properly, you can raise a different exception to indicate the failure and propagate it to an outer exception handler.\n",
    "\n",
    "- Logging and error reporting: You can log exceptions to a file or database for later analysis and troubleshooting. Additionally, you can send error reports to developers or system administrators to help diagnose and fix issues."
   ]
  },
  {
   "cell_type": "markdown",
   "id": "e4815530",
   "metadata": {},
   "source": [
    "Q4. Describe two methods for triggering exceptions in your script."
   ]
  },
  {
   "cell_type": "markdown",
   "id": "f9884963",
   "metadata": {},
   "source": [
    "- Using the raise statement: You can explicitly raise an exception using the raise keyword followed by an exception type or - instance. This allows you to generate custom exceptions or raise built-in exceptions based on specific conditions or criteria.\n",
    "\n",
    "- Invoking built-in functions or methods that raise exceptions: Certain built-in functions or methods in Python can raise exceptions based on predefined conditions. For example, accessing a non-existent key in a dictionary using the dict[key] syntax will raise a KeyError exception."
   ]
  },
  {
   "cell_type": "markdown",
   "id": "0736cd34",
   "metadata": {},
   "source": [
    "Q5. Identify two methods for specifying actions to be executed at termination time, regardless of whether or not an exception exists."
   ]
  },
  {
   "cell_type": "markdown",
   "id": "d48706be",
   "metadata": {},
   "source": [
    "- Using the finally clause: The finally clause is used in conjunction with the try and except clauses. Code within the finally block will always be executed, whether an exception is raised or not. It is typically used for cleanup operations, such as closing files or releasing resources.\n",
    "\n",
    "- Registering an exit handler with atexit: The atexit module allows you to register functions that will be called when the program terminates normally. These functions will execute regardless of whether an exception occurred. It is useful for performing final cleanup tasks or saving program state before exiting."
   ]
  }
 ],
 "metadata": {
  "kernelspec": {
   "display_name": "Python 3",
   "language": "python",
   "name": "python3"
  },
  "language_info": {
   "codemirror_mode": {
    "name": "ipython",
    "version": 3
   },
   "file_extension": ".py",
   "mimetype": "text/x-python",
   "name": "python",
   "nbconvert_exporter": "python",
   "pygments_lexer": "ipython3",
   "version": "3.9.13"
  }
 },
 "nbformat": 4,
 "nbformat_minor": 5
}
