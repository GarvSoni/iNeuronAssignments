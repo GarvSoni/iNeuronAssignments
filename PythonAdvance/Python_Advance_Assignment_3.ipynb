{
 "cells": [
  {
   "cell_type": "markdown",
   "id": "dcaaa67e",
   "metadata": {},
   "source": [
    "1. What is the concept of an abstract superclass?"
   ]
  },
  {
   "cell_type": "markdown",
   "id": "78405d2a",
   "metadata": {},
   "source": [
    "An abstract superclass is a class that is designed to be inherited from but not instantiated directly. It serves as a blueprint or template for its subclasses, defining common attributes and methods that can be inherited and overridden. An abstract superclass typically contains abstract methods, which are declared but not implemented in the superclass. The responsibility of implementing these methods is left to the subclasses. The purpose of an abstract superclass is to provide a common interface and structure for its subclasses."
   ]
  },
  {
   "cell_type": "markdown",
   "id": "f6d805a6",
   "metadata": {},
   "source": [
    "2. What happens when a class statement&#39;s top level contains a basic assignment statement?"
   ]
  },
  {
   "cell_type": "markdown",
   "id": "ad1874a1",
   "metadata": {},
   "source": [
    "When a class statement's top level contains a basic assignment statement, it creates a class attribute. Class attributes are shared by all instances of the class and are accessible through the class itself or any instance of the class. The assignment statement defines the name of the attribute and assigns it a value. Class attributes can be accessed and modified by all instances of the class, and changes to a class attribute will be reflected in all instances."
   ]
  },
  {
   "cell_type": "markdown",
   "id": "042f053f",
   "metadata": {},
   "source": [
    "3. Why does a class need to manually call a superclass&#39;s __init__ method?"
   ]
  },
  {
   "cell_type": "markdown",
   "id": "0982dce1",
   "metadata": {},
   "source": [
    "In Python, if a class inherits from a superclass and wants to utilize the superclass's initialization logic, it needs to explicitly call the superclass's __init__ method. This is necessary because when a subclass is instantiated, it needs to initialize both its own attributes and the attributes inherited from the superclass. By calling the superclass's __init__ method, the subclass ensures that the initialization code defined in the superclass is executed, properly setting up the inherited attributes. This way, the subclass can inherit and extend the behavior of the superclass."
   ]
  },
  {
   "cell_type": "markdown",
   "id": "dca91db5",
   "metadata": {},
   "source": [
    "4. How can you augment, instead of completely replacing, an inherited method?"
   ]
  },
  {
   "cell_type": "markdown",
   "id": "c58d992f",
   "metadata": {},
   "source": [
    "To augment an inherited method rather than completely replacing it, you can use method overriding. Method overriding allows a subclass to provide its own implementation of a method that is already defined in its superclass. By defining a method with the same name in the subclass, the subclass's method will be called instead of the superclass's method when the method is invoked on an instance of the subclass. Within the subclass's method, you can choose to invoke the superclass's method using the super() function, allowing you to extend or modify the behavior of the inherited method while still leveraging the functionality of the superclass's method."
   ]
  },
  {
   "cell_type": "markdown",
   "id": "a6aef5aa",
   "metadata": {},
   "source": [
    "5. How is the local scope of a class different from that of a function?"
   ]
  },
  {
   "cell_type": "markdown",
   "id": "97aa0fe7",
   "metadata": {},
   "source": [
    "The local scope of a class and the local scope of a function are different in terms of accessibility and lifespan.\n",
    "- Accessibility: In a class, the local scope refers to the namespace within the class definition. Class attributes and methods are accessible within the class itself and can be accessed using the self keyword. These attributes and methods are also accessible from instances of the class. On the other hand, in a function, the local scope refers to the namespace within the function definition. Variables and objects created within the function are accessible only within the function unless they are explicitly returned or passed as parameters.\n",
    "- Lifespan: The local scope of a class exists throughout the lifetime of the class. Class attributes and methods are available as long as the class exists and can be accessed by any instance of the class. In contrast, the local scope of a function is temporary and exists only when the function is called. Once the function finishes executing, its local scope is destroyed, and the variables and objects within it are no longer accessible."
   ]
  }
 ],
 "metadata": {
  "kernelspec": {
   "display_name": "Python 3",
   "language": "python",
   "name": "python3"
  },
  "language_info": {
   "codemirror_mode": {
    "name": "ipython",
    "version": 3
   },
   "file_extension": ".py",
   "mimetype": "text/x-python",
   "name": "python",
   "nbconvert_exporter": "python",
   "pygments_lexer": "ipython3",
   "version": "3.9.13"
  }
 },
 "nbformat": 4,
 "nbformat_minor": 5
}
