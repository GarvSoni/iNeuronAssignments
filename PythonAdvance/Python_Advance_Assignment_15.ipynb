{
 "cells": [
  {
   "cell_type": "markdown",
   "id": "e0ea598d",
   "metadata": {},
   "source": [
    "1. What are the new features added in Python 3.8 version?"
   ]
  },
  {
   "cell_type": "markdown",
   "id": "511cae88",
   "metadata": {},
   "source": [
    "Some new features added in Python 3.8 version include:\n",
    "\n",
    "- The assignment expression (also known as the \"walrus operator\") using the := syntax.\n",
    "- Positional-only parameters in function definitions.\n",
    "- The f-strings now support the = specifier for self-documenting expressions.\n",
    "- The math.prod() function for calculating the product of a sequence of numbers.\n",
    "- Improved performance and optimizations."
   ]
  },
  {
   "cell_type": "markdown",
   "id": "410b7b6e",
   "metadata": {},
   "source": [
    "2. What is monkey patching in Python?"
   ]
  },
  {
   "cell_type": "markdown",
   "id": "44a584b6",
   "metadata": {},
   "source": [
    "Monkey patching in Python refers to the practice of modifying or extending the behavior of existing classes or modules at runtime. It involves adding, modifying, or replacing attributes or methods of an object or class without changing its original implementation. Monkey patching can be useful in situations where you need to modify the behavior of an existing codebase without directly modifying its source code."
   ]
  },
  {
   "cell_type": "markdown",
   "id": "2db771b7",
   "metadata": {},
   "source": [
    "3. What is the difference between a shallow copy and deep copy?"
   ]
  },
  {
   "cell_type": "markdown",
   "id": "eca3c927",
   "metadata": {},
   "source": [
    "The difference between a shallow copy and a deep copy:\n",
    "\n",
    "- Shallow copy: It creates a new object that references the same elements as the original object. However, if the elements are mutable objects, any changes made to these objects will be reflected in both the original and the shallow copy.\n",
    "- Deep copy: It creates a completely independent copy of the original object and all its nested objects. Any changes made to the original or the deep copy will not affect each other. Deep copy creates new instances of all the objects, recursively copying all nested objects."
   ]
  },
  {
   "cell_type": "markdown",
   "id": "899a7da8",
   "metadata": {},
   "source": [
    "4. What is the maximum possible length of an identifier?"
   ]
  },
  {
   "cell_type": "markdown",
   "id": "7434c2ab",
   "metadata": {},
   "source": [
    "The maximum possible length of an identifier in Python is implementation-dependent. In most implementations, the maximum length is 255 characters."
   ]
  },
  {
   "cell_type": "markdown",
   "id": "e1d43535",
   "metadata": {},
   "source": [
    "5. What is generator comprehension?"
   ]
  },
  {
   "cell_type": "markdown",
   "id": "6a8eb6ea",
   "metadata": {},
   "source": [
    "Generator comprehension is a concise way to create a generator object in Python. It follows a similar syntax to list comprehension but returns a generator instead of a list. Generator comprehension is written within parentheses ( ) instead of square brackets [ ]. It allows you to generate elements on-the-fly, making it memory-efficient for large datasets or infinite sequences. Generator comprehension is useful when you don't need to store all the generated values in memory at once and want to iterate over them lazily."
   ]
  }
 ],
 "metadata": {
  "kernelspec": {
   "display_name": "Python 3",
   "language": "python",
   "name": "python3"
  },
  "language_info": {
   "codemirror_mode": {
    "name": "ipython",
    "version": 3
   },
   "file_extension": ".py",
   "mimetype": "text/x-python",
   "name": "python",
   "nbconvert_exporter": "python",
   "pygments_lexer": "ipython3",
   "version": "3.9.13"
  }
 },
 "nbformat": 4,
 "nbformat_minor": 5
}
