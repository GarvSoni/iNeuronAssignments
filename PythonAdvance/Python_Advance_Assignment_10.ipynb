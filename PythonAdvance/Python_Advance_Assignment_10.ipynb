{
 "cells": [
  {
   "cell_type": "markdown",
   "id": "8a4cea05",
   "metadata": {},
   "source": [
    "Q1. What is the difference between __getattr__ and __getattribute__?"
   ]
  },
  {
   "cell_type": "markdown",
   "id": "635ba6df",
   "metadata": {},
   "source": [
    "The key differences between __getattr__ and __getattribute__ are:\n",
    "\n",
    "- __getattr__ is called when an attribute is not found via the usual attribute lookup process. It is a fallback method that is invoked only if the requested attribute is not found in the object's dictionary or in its class hierarchy.\n",
    "- __getattribute__ is called for every attribute access, regardless of whether the attribute exists or not. It is called first before checking the object's dictionary or class hierarchy. If __getattribute__ is defined in a class, it intercepts all attribute access attempts."
   ]
  },
  {
   "cell_type": "markdown",
   "id": "3cafdc7d",
   "metadata": {},
   "source": [
    "Q2. What is the difference between properties and descriptors?"
   ]
  },
  {
   "cell_type": "markdown",
   "id": "0cfe5b21",
   "metadata": {},
   "source": [
    "The key differences between properties and descriptors are:\n",
    "\n",
    "- Properties are a higher-level concept that provides a simple way to define computed attributes. They allow you to define getter, setter, and deleter methods that are used to access or modify an attribute's value. Properties are defined on a per-attribute basis within a class.\n",
    "- Descriptors are a lower-level concept that allows you to define the behavior of attribute access and modification at the class level. Descriptors are defined as separate objects and can be reused across multiple attributes or classes. They provide more flexibility and control over attribute access than properties."
   ]
  },
  {
   "cell_type": "markdown",
   "id": "658ec78c",
   "metadata": {},
   "source": [
    "Q3. What are the key differences in functionality between __getattr__ and __getattribute__, as well as\n",
    "properties and descriptors?"
   ]
  },
  {
   "cell_type": "markdown",
   "id": "a3e91176",
   "metadata": {},
   "source": [
    "The key differences in functionality between __getattr__, __getattribute__, properties, and descriptors are:\n",
    "\n",
    "- __getattr__ and __getattribute__ are both used to customize attribute access, but __getattr__ is only called when the attribute is not found, whereas __getattribute__ is called for every attribute access.\n",
    "- Properties provide a convenient way to define computed attributes by using getter, setter, and deleter methods. They allow you to add behavior to attribute access and modification.\n",
    "- Descriptors are more flexible and powerful than properties. They allow you to define custom behavior for attribute access, modification, and deletion at the class level. Descriptors can be used to control access to attributes, implement computed attributes, or define custom behavior for attribute operations."
   ]
  }
 ],
 "metadata": {
  "kernelspec": {
   "display_name": "Python 3",
   "language": "python",
   "name": "python3"
  },
  "language_info": {
   "codemirror_mode": {
    "name": "ipython",
    "version": 3
   },
   "file_extension": ".py",
   "mimetype": "text/x-python",
   "name": "python",
   "nbconvert_exporter": "python",
   "pygments_lexer": "ipython3",
   "version": "3.9.13"
  }
 },
 "nbformat": 4,
 "nbformat_minor": 5
}
