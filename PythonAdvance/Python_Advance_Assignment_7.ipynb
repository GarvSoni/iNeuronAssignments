{
 "cells": [
  {
   "cell_type": "markdown",
   "id": "1dcc6851",
   "metadata": {},
   "source": [
    "Q1. What is the purpose of the try statement?"
   ]
  },
  {
   "cell_type": "markdown",
   "id": "49a796bd",
   "metadata": {},
   "source": [
    "The purpose of the try statement in Python is to handle exceptions or errors that may occur during the execution of a block of code. It allows you to catch and handle exceptions gracefully, preventing your program from crashing."
   ]
  },
  {
   "cell_type": "markdown",
   "id": "44a53d23",
   "metadata": {},
   "source": [
    "Q2. What are the two most popular try statement variations?"
   ]
  },
  {
   "cell_type": "markdown",
   "id": "ff3e07ef",
   "metadata": {},
   "source": [
    "- try-except: It allows you to catch specific exceptions and handle them accordingly. You can specify multiple except blocks to handle different types of exceptions.\n",
    "- try-finally: It ensures that a block of code is always executed, whether an exception occurs or not. The finally block is executed after the try and any associated except blocks."
   ]
  },
  {
   "cell_type": "markdown",
   "id": "53276e1d",
   "metadata": {},
   "source": [
    "Q3. What is the purpose of the raise statement?"
   ]
  },
  {
   "cell_type": "markdown",
   "id": "7300805c",
   "metadata": {},
   "source": [
    "The raise statement is used to manually raise an exception or error in Python. It allows you to create custom exceptions or propagate existing exceptions to higher levels of the program for handling."
   ]
  },
  {
   "cell_type": "markdown",
   "id": "c3e1d3ed",
   "metadata": {},
   "source": [
    "Q4. What does the assert statement do, and what other statement is it like?"
   ]
  },
  {
   "cell_type": "markdown",
   "id": "399d34c5",
   "metadata": {},
   "source": [
    " The assert statement is used to test a condition and raise an AssertionError if the condition is false. It is used for debugging and verifying assumptions in code. The assert statement is similar to the if statement, but it is primarily used for testing and debugging purposes."
   ]
  },
  {
   "cell_type": "markdown",
   "id": "081f3fd4",
   "metadata": {},
   "source": [
    "Q5. What is the purpose of the with/as argument, and what other statement is it like?"
   ]
  },
  {
   "cell_type": "markdown",
   "id": "9eb7af02",
   "metadata": {},
   "source": [
    "The purpose of the with/as statement is to simplify the management of resources, such as files or network connections, by automatically handling the setup and cleanup operations. It ensures that the resources are properly initialized and released, even if an exception occurs. The with/as statement is similar to the try-finally statement, but it provides a more concise and readable syntax for resource management."
   ]
  }
 ],
 "metadata": {
  "kernelspec": {
   "display_name": "Python 3",
   "language": "python",
   "name": "python3"
  },
  "language_info": {
   "codemirror_mode": {
    "name": "ipython",
    "version": 3
   },
   "file_extension": ".py",
   "mimetype": "text/x-python",
   "name": "python",
   "nbconvert_exporter": "python",
   "pygments_lexer": "ipython3",
   "version": "3.9.13"
  }
 },
 "nbformat": 4,
 "nbformat_minor": 5
}
