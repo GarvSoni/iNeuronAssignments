{
 "cells": [
  {
   "cell_type": "markdown",
   "id": "bfe694b3",
   "metadata": {},
   "source": [
    "1. What is the result of the code, and why?"
   ]
  },
  {
   "cell_type": "code",
   "execution_count": null,
   "id": "78fb2a32",
   "metadata": {},
   "outputs": [],
   "source": [
    "def func(a, b=6, c=8):\n",
    "    print(a, b, c)\n",
    "\n",
    "func(1, 2)\n"
   ]
  },
  {
   "cell_type": "markdown",
   "id": "444bf60c",
   "metadata": {},
   "source": [
    "Result: It will print 1 2 8.\n",
    "Explanation: The function func is defined with three parameters: a, b, and c. When calling the function func(1, 2), the value 1 is assigned to a, 2 is assigned to b, and the default value 8 is assigned to c since no argument is passed for c. Therefore, when printing the values of a, b, and c, it will print 1 2 8."
   ]
  },
  {
   "cell_type": "markdown",
   "id": "07eb3985",
   "metadata": {},
   "source": [
    "2. What is the result of this code, and why?"
   ]
  },
  {
   "cell_type": "code",
   "execution_count": null,
   "id": "bb34bf35",
   "metadata": {},
   "outputs": [],
   "source": [
    "def func(a, b, c=5):\n",
    "    print(a, b, c)\n",
    "\n",
    "func(1, c=3, b=2)\n"
   ]
  },
  {
   "cell_type": "markdown",
   "id": "1482449d",
   "metadata": {},
   "source": [
    "Result: It will print 1 2 3.\n",
    "Explanation: The function func is defined with three parameters: a, b, and c. When calling the function func(1, c=3, b=2), the value 1 is assigned to a, 2 is assigned to b, and 3 is explicitly assigned to c. Therefore, when printing the values of a, b, and c, it will print 1 2 3."
   ]
  },
  {
   "cell_type": "markdown",
   "id": "8fd9b581",
   "metadata": {},
   "source": [
    "3. How about this code: what is its result, and why?"
   ]
  },
  {
   "cell_type": "code",
   "execution_count": null,
   "id": "5b4b3cf3",
   "metadata": {},
   "outputs": [],
   "source": [
    "def func(a, *pargs):\n",
    "    print(a, pargs)\n",
    "\n",
    "func(1, 2, 3)\n"
   ]
  },
  {
   "cell_type": "markdown",
   "id": "1085f9d0",
   "metadata": {},
   "source": [
    "Result: It will print 1 (2, 3).\n",
    "Explanation: The function func is defined with a parameter a and *pargs, which allows for variable-length arguments. When calling the function func(1, 2, 3), the value 1 is assigned to a, and the remaining arguments 2 and 3 are packed into a tuple and assigned to pargs. Therefore, when printing the values of a and pargs, it will print 1 (2, 3)."
   ]
  },
  {
   "cell_type": "markdown",
   "id": "91febd30",
   "metadata": {},
   "source": [
    "4. What does this code print, and why?"
   ]
  },
  {
   "cell_type": "code",
   "execution_count": null,
   "id": "64eeb2d4",
   "metadata": {},
   "outputs": [],
   "source": [
    "def func(a, **kargs):\n",
    "    print(a, kargs)\n",
    "\n",
    "func(a=1, c=3, b=2)\n"
   ]
  },
  {
   "cell_type": "markdown",
   "id": "fae85618",
   "metadata": {},
   "source": [
    "Result: It will print 1 {'c': 3, 'b': 2}.\n",
    "Explanation: The function func is defined with a parameter a and **kargs, which allows for variable-length keyword arguments. When calling the function func(a=1, c=3, b=2), the value 1 is assigned to a, and the keyword arguments c=3 and b=2 are packed into a dictionary and assigned to kargs. Therefore, when printing the values of a and kargs, it will print 1 {'c': 3, 'b': 2}."
   ]
  },
  {
   "cell_type": "markdown",
   "id": "d5446944",
   "metadata": {},
   "source": [
    "5. What gets printed by this, and explain?"
   ]
  },
  {
   "cell_type": "code",
   "execution_count": null,
   "id": "90e507c0",
   "metadata": {},
   "outputs": [],
   "source": [
    "def func(a, b, c=8, d=5):\n",
    "    print(a, b, c, d)\n",
    "\n",
    "func(1, *(5, 6))\n"
   ]
  },
  {
   "cell_type": "markdown",
   "id": "e671b331",
   "metadata": {},
   "source": []
  },
  {
   "cell_type": "markdown",
   "id": "85e7e8be",
   "metadata": {},
   "source": [
    "6. what is the result of this, and explain?"
   ]
  },
  {
   "cell_type": "code",
   "execution_count": null,
   "id": "f85a59ed",
   "metadata": {},
   "outputs": [],
   "source": [
    "def func(a, b, c):\n",
    "    a = 2\n",
    "    b[0] = 'x'\n",
    "    c['a'] = 'y'\n",
    "\n",
    "l = 1\n",
    "m = [1]\n",
    "n = {'a': 0}\n",
    "func(l, m, n)\n",
    "l, m, n\n"
   ]
  },
  {
   "cell_type": "markdown",
   "id": "fa034e4d",
   "metadata": {},
   "source": []
  }
 ],
 "metadata": {
  "kernelspec": {
   "display_name": "Python 3",
   "language": "python",
   "name": "python3"
  },
  "language_info": {
   "codemirror_mode": {
    "name": "ipython",
    "version": 3
   },
   "file_extension": ".py",
   "mimetype": "text/x-python",
   "name": "python",
   "nbconvert_exporter": "python",
   "pygments_lexer": "ipython3",
   "version": "3.9.13"
  }
 },
 "nbformat": 4,
 "nbformat_minor": 5
}
