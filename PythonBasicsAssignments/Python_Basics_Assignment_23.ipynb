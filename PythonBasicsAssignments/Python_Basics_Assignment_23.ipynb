{
 "cells": [
  {
   "cell_type": "markdown",
   "id": "887b2f15",
   "metadata": {},
   "source": [
    "1. What is the result of the code, and why?"
   ]
  },
  {
   "cell_type": "code",
   "execution_count": 1,
   "id": "d64e7dbf",
   "metadata": {},
   "outputs": [
    {
     "name": "stdout",
     "output_type": "stream",
     "text": [
      "1 2 8\n"
     ]
    }
   ],
   "source": [
    "def func(a, b=6, c=8):\n",
    "    print(a, b, c)\n",
    "\n",
    "func(1, 2)\n"
   ]
  },
  {
   "cell_type": "markdown",
   "id": "3cc40d74",
   "metadata": {},
   "source": [
    "Result: It will print 1 2 8.\n",
    "Explanation: The function func is defined with three parameters: a, b, and c. When calling the function func(1, 2), the value 1 is assigned to a, 2 is assigned to b, and the default value 8 is assigned to c since no argument is passed for c. Therefore, when printing the values of a, b, and c, it will print 1 2 8."
   ]
  },
  {
   "cell_type": "markdown",
   "id": "568662e8",
   "metadata": {},
   "source": [
    "2. What is the result of this code, and why?"
   ]
  },
  {
   "cell_type": "code",
   "execution_count": 2,
   "id": "97e695c4",
   "metadata": {},
   "outputs": [
    {
     "name": "stdout",
     "output_type": "stream",
     "text": [
      "1 2 3\n"
     ]
    }
   ],
   "source": [
    "def func(a, b, c=5):\n",
    "    print(a, b, c)\n",
    "\n",
    "func(1, c=3, b=2)\n"
   ]
  },
  {
   "cell_type": "markdown",
   "id": "5b3ea041",
   "metadata": {},
   "source": [
    "Result: It will print 1 2 3.\n",
    "Explanation: The function func is defined with three parameters: a, b, and c. When calling the function func(1, c=3, b=2), the value 1 is assigned to a, 2 is assigned to b, and 3 is explicitly assigned to c. Therefore, when printing the values of a, b, and c, it will print 1 2 3."
   ]
  },
  {
   "cell_type": "markdown",
   "id": "fce0c84c",
   "metadata": {},
   "source": [
    "3. How about this code: what is its result, and why?"
   ]
  },
  {
   "cell_type": "code",
   "execution_count": 3,
   "id": "3dc1b52e",
   "metadata": {},
   "outputs": [
    {
     "name": "stdout",
     "output_type": "stream",
     "text": [
      "1 (2, 3)\n"
     ]
    }
   ],
   "source": [
    "def func(a, *pargs):\n",
    "    print(a, pargs)\n",
    "\n",
    "func(1, 2, 3)\n"
   ]
  },
  {
   "cell_type": "markdown",
   "id": "86c698d7",
   "metadata": {},
   "source": [
    "Result: It will print 1 (2, 3).\n",
    "Explanation: The function func is defined with a parameter a and *pargs, which allows for variable-length arguments. When calling the function func(1, 2, 3), the value 1 is assigned to a, and the remaining arguments 2 and 3 are packed into a tuple and assigned to pargs. Therefore, when printing the values of a and pargs, it will print 1 (2, 3)."
   ]
  },
  {
   "cell_type": "markdown",
   "id": "2c012d80",
   "metadata": {},
   "source": [
    "4. What does this code print, and why?"
   ]
  },
  {
   "cell_type": "code",
   "execution_count": 4,
   "id": "bff52c7a",
   "metadata": {},
   "outputs": [
    {
     "name": "stdout",
     "output_type": "stream",
     "text": [
      "1 {'c': 3, 'b': 2}\n"
     ]
    }
   ],
   "source": [
    "def func(a, **kargs):\n",
    "    print(a, kargs)\n",
    "\n",
    "func(a=1, c=3, b=2)\n"
   ]
  },
  {
   "cell_type": "markdown",
   "id": "3ba40b6c",
   "metadata": {},
   "source": [
    "Result: It will print 1 {'c': 3, 'b': 2}.\n",
    "Explanation: The function func is defined with a parameter a and **kargs, which allows for variable-length keyword arguments. When calling the function func(a=1, c=3, b=2), the value 1 is assigned to a, and the keyword arguments c=3 and b=2 are packed into a dictionary and assigned to kargs. Therefore, when printing the values of a and kargs, it will print 1 {'c': 3, 'b': 2}."
   ]
  },
  {
   "cell_type": "markdown",
   "id": "3dd3a194",
   "metadata": {},
   "source": [
    "5. What gets printed by this, and explain?"
   ]
  },
  {
   "cell_type": "code",
   "execution_count": 5,
   "id": "29a9a170",
   "metadata": {},
   "outputs": [
    {
     "name": "stdout",
     "output_type": "stream",
     "text": [
      "1 5 6 5\n"
     ]
    }
   ],
   "source": [
    "def func(a, b, c=8, d=5):\n",
    "    print(a, b, c, d)\n",
    "\n",
    "func(1, *(5, 6))\n"
   ]
  },
  {
   "cell_type": "markdown",
   "id": "5c912ba4",
   "metadata": {},
   "source": [
    "Result: It will print 1 5 6 5.\n",
    "Explanation: The function func is defined with four parameters: a, b, c, and d. When calling the function func(1, *(5, 6)), the value 1 is assigned to a, 5 is assigned to b, and the values (5, 6) are unpacked and assigned to c and d. Since only two values are provided for c and d, the default values 8 and 5 are used, respectively. Therefore, when printing the values of a, b, c, and d, it will print 1 5 6 5."
   ]
  },
  {
   "cell_type": "markdown",
   "id": "951b7f43",
   "metadata": {},
   "source": [
    "6. what is the result of this, and explain?"
   ]
  },
  {
   "cell_type": "code",
   "execution_count": 6,
   "id": "e9e90cfc",
   "metadata": {},
   "outputs": [
    {
     "data": {
      "text/plain": [
       "(1, ['x'], {'a': 'y'})"
      ]
     },
     "execution_count": 6,
     "metadata": {},
     "output_type": "execute_result"
    }
   ],
   "source": [
    "def func(a, b, c):\n",
    "    a = 2\n",
    "    b[0] = 'x'\n",
    "    c['a'] = 'y'\n",
    "\n",
    "l = 1\n",
    "m = [1]\n",
    "n = {'a': 0}\n",
    "func(l, m, n)\n",
    "l, m, n\n"
   ]
  },
  {
   "cell_type": "markdown",
   "id": "611875d6",
   "metadata": {},
   "source": [
    "Result: It will print (1, ['x'], {'a': 'y'}).\n",
    "Explanation: The function func modifies the values of the arguments it receives. Inside the function, a is reassigned to 2, b[0] modifies the first element of the list m to 'x', and c['a'] modifies the value associated with the key 'a' in the dictionary n to 'y'. Since lists and dictionaries are mutable objects, the modifications made inside the function affect the original objects. Therefore, when printing the values of l, m, and n outside the function, it will print (1, ['x'], {'a': 'y'})."
   ]
  }
 ],
 "metadata": {
  "kernelspec": {
   "display_name": "Python 3",
   "language": "python",
   "name": "python3"
  },
  "language_info": {
   "codemirror_mode": {
    "name": "ipython",
    "version": 3
   },
   "file_extension": ".py",
   "mimetype": "text/x-python",
   "name": "python",
   "nbconvert_exporter": "python",
   "pygments_lexer": "ipython3",
   "version": "3.9.13"
  }
 },
 "nbformat": 4,
 "nbformat_minor": 5
}
