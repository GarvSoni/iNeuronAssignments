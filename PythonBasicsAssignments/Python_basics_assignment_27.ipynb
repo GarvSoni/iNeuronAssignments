{
 "cells": [
  {
   "cell_type": "markdown",
   "id": "855ec85d",
   "metadata": {},
   "source": [
    "Write a Python program to convert kilometers to miles?"
   ]
  },
  {
   "cell_type": "code",
   "execution_count": 1,
   "id": "456ef4f1",
   "metadata": {},
   "outputs": [
    {
     "name": "stdout",
     "output_type": "stream",
     "text": [
      "Enter the value in kilometers: 100\n",
      "The value in miles: 62.137100000000004\n"
     ]
    }
   ],
   "source": [
    "kilometers = float(input(\"Enter the value in kilometers: \"))\n",
    "miles = kilometers * 0.621371\n",
    "print(\"The value in miles:\", miles)\n"
   ]
  },
  {
   "cell_type": "markdown",
   "id": "e19312e6",
   "metadata": {},
   "source": [
    "Write a Python program to convert Celsius to Fahrenheit?"
   ]
  },
  {
   "cell_type": "code",
   "execution_count": 2,
   "id": "7ca2c107",
   "metadata": {},
   "outputs": [
    {
     "name": "stdout",
     "output_type": "stream",
     "text": [
      "Enter the temperature in Celsius: 44\n",
      "The temperature in Fahrenheit: 111.2\n"
     ]
    }
   ],
   "source": [
    "celsius = float(input(\"Enter the temperature in Celsius: \"))\n",
    "fahrenheit = (celsius * 9/5) + 32\n",
    "print(\"The temperature in Fahrenheit:\", fahrenheit)\n"
   ]
  },
  {
   "cell_type": "markdown",
   "id": "632b1e72",
   "metadata": {},
   "source": [
    "Write a Python program to display calendar?"
   ]
  },
  {
   "cell_type": "code",
   "execution_count": 3,
   "id": "af48ba66",
   "metadata": {},
   "outputs": [
    {
     "name": "stdout",
     "output_type": "stream",
     "text": [
      "Enter the year: 2023\n",
      "Enter the month: 07\n",
      "     July 2023\n",
      "Mo Tu We Th Fr Sa Su\n",
      "                1  2\n",
      " 3  4  5  6  7  8  9\n",
      "10 11 12 13 14 15 16\n",
      "17 18 19 20 21 22 23\n",
      "24 25 26 27 28 29 30\n",
      "31\n",
      "\n"
     ]
    }
   ],
   "source": [
    "import calendar\n",
    "\n",
    "year = int(input(\"Enter the year: \"))\n",
    "month = int(input(\"Enter the month: \"))\n",
    "\n",
    "print(calendar.month(year, month))\n"
   ]
  },
  {
   "cell_type": "markdown",
   "id": "4e8d36e8",
   "metadata": {},
   "source": [
    "Write a Python program to solve quadratic equation?"
   ]
  },
  {
   "cell_type": "code",
   "execution_count": 4,
   "id": "34e93d48",
   "metadata": {},
   "outputs": [
    {
     "name": "stdout",
     "output_type": "stream",
     "text": [
      "Enter the coefficient a: 1\n",
      "Enter the coefficient b: -3\n",
      "Enter the coefficient c: -4\n",
      "The solutions are (-1+0j) and (4+0j)\n"
     ]
    }
   ],
   "source": [
    "import cmath\n",
    "\n",
    "a = float(input(\"Enter the coefficient a: \"))\n",
    "b = float(input(\"Enter the coefficient b: \"))\n",
    "c = float(input(\"Enter the coefficient c: \"))\n",
    "\n",
    "# Calculate the discriminant\n",
    "d = (b**2) - (4*a*c)\n",
    "\n",
    "# Find two solutions\n",
    "sol1 = (-b - cmath.sqrt(d)) / (2*a)\n",
    "sol2 = (-b + cmath.sqrt(d)) / (2*a)\n",
    "\n",
    "print(\"The solutions are {0} and {1}\".format(sol1, sol2))\n"
   ]
  },
  {
   "cell_type": "markdown",
   "id": "ab314f28",
   "metadata": {},
   "source": [
    "Write a Python program to swap two variables without temp variable?"
   ]
  },
  {
   "cell_type": "code",
   "execution_count": 5,
   "id": "c99a14b9",
   "metadata": {},
   "outputs": [
    {
     "name": "stdout",
     "output_type": "stream",
     "text": [
      "Before swapping: a = 5 b = 3\n",
      "After swapping: a = 3 b = 5\n"
     ]
    }
   ],
   "source": [
    "a = 5\n",
    "b = 3\n",
    "\n",
    "print(\"Before swapping: a =\", a, \"b =\", b)\n",
    "\n",
    "a, b = b, a\n",
    "\n",
    "print(\"After swapping: a =\", a, \"b =\", b)\n"
   ]
  }
 ],
 "metadata": {
  "kernelspec": {
   "display_name": "Python 3",
   "language": "python",
   "name": "python3"
  },
  "language_info": {
   "codemirror_mode": {
    "name": "ipython",
    "version": 3
   },
   "file_extension": ".py",
   "mimetype": "text/x-python",
   "name": "python",
   "nbconvert_exporter": "python",
   "pygments_lexer": "ipython3",
   "version": "3.9.13"
  }
 },
 "nbformat": 4,
 "nbformat_minor": 5
}
