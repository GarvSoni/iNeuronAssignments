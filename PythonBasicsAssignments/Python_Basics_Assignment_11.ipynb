{
 "cells": [
  {
   "cell_type": "markdown",
   "id": "e20ff986",
   "metadata": {},
   "source": [
    "1. Create an assert statement that throws an AssertionError if the variable spam is a negative integer."
   ]
  },
  {
   "cell_type": "markdown",
   "id": "03ff74ac",
   "metadata": {},
   "source": [
    "Answer: - Assert statement to throw an AssertionError if spam is a negative integer:"
   ]
  },
  {
   "cell_type": "code",
   "execution_count": 1,
   "id": "6e5bf538",
   "metadata": {},
   "outputs": [],
   "source": [
    "spam = 5  # Assign a value to spam\n",
    "assert spam >= 0, \"spam should be a non-negative integer.\""
   ]
  },
  {
   "cell_type": "markdown",
   "id": "1b5170da",
   "metadata": {},
   "source": [
    "2. Write an assert statement that triggers an AssertionError if the variables eggs and bacon contain strings that are the same as each other, even if their cases are different (that is, 'hello' and 'hello' are considered the same, and 'goodbye' and 'GOODbye' are also considered the same)."
   ]
  },
  {
   "cell_type": "markdown",
   "id": "b7a8c3ee",
   "metadata": {},
   "source": [
    "Answer: - Assert statement to trigger an AssertionError if eggs and bacon contain strings that are the same, regardless of case:"
   ]
  },
  {
   "cell_type": "code",
   "execution_count": 2,
   "id": "478bd3a5",
   "metadata": {},
   "outputs": [
    {
     "ename": "AssertionError",
     "evalue": "eggs and bacon should be different strings.",
     "output_type": "error",
     "traceback": [
      "\u001b[1;31m---------------------------------------------------------------------------\u001b[0m",
      "\u001b[1;31mAssertionError\u001b[0m                            Traceback (most recent call last)",
      "\u001b[1;32m<ipython-input-2-a3ef8da93a08>\u001b[0m in \u001b[0;36m<module>\u001b[1;34m\u001b[0m\n\u001b[0;32m      2\u001b[0m \u001b[0mbacon\u001b[0m \u001b[1;33m=\u001b[0m \u001b[1;34m\"HELLO\"\u001b[0m  \u001b[1;31m# Assign a value to bacon\u001b[0m\u001b[1;33m\u001b[0m\u001b[1;33m\u001b[0m\u001b[0m\n\u001b[0;32m      3\u001b[0m \u001b[1;33m\u001b[0m\u001b[0m\n\u001b[1;32m----> 4\u001b[1;33m \u001b[1;32massert\u001b[0m \u001b[0meggs\u001b[0m\u001b[1;33m.\u001b[0m\u001b[0mlower\u001b[0m\u001b[1;33m(\u001b[0m\u001b[1;33m)\u001b[0m \u001b[1;33m!=\u001b[0m \u001b[0mbacon\u001b[0m\u001b[1;33m.\u001b[0m\u001b[0mlower\u001b[0m\u001b[1;33m(\u001b[0m\u001b[1;33m)\u001b[0m\u001b[1;33m,\u001b[0m \u001b[1;34m\"eggs and bacon should be different strings.\"\u001b[0m\u001b[1;33m\u001b[0m\u001b[1;33m\u001b[0m\u001b[0m\n\u001b[0m",
      "\u001b[1;31mAssertionError\u001b[0m: eggs and bacon should be different strings."
     ]
    }
   ],
   "source": [
    "eggs = \"hello\"  # Assign a value to eggs\n",
    "bacon = \"HELLO\"  # Assign a value to bacon\n",
    "\n",
    "assert eggs.lower() != bacon.lower(), \"eggs and bacon should be different strings.\""
   ]
  },
  {
   "cell_type": "markdown",
   "id": "1ae4b0f1",
   "metadata": {},
   "source": [
    "3. Create an assert statement that throws an AssertionError every time."
   ]
  },
  {
   "cell_type": "code",
   "execution_count": 3,
   "id": "f0cbe25b",
   "metadata": {},
   "outputs": [
    {
     "ename": "AssertionError",
     "evalue": "This assertion always triggers an error.",
     "output_type": "error",
     "traceback": [
      "\u001b[1;31m---------------------------------------------------------------------------\u001b[0m",
      "\u001b[1;31mAssertionError\u001b[0m                            Traceback (most recent call last)",
      "\u001b[1;32m<ipython-input-3-af5a3d214406>\u001b[0m in \u001b[0;36m<module>\u001b[1;34m\u001b[0m\n\u001b[1;32m----> 1\u001b[1;33m \u001b[1;32massert\u001b[0m \u001b[1;32mFalse\u001b[0m\u001b[1;33m,\u001b[0m \u001b[1;34m\"This assertion always triggers an error.\"\u001b[0m\u001b[1;33m\u001b[0m\u001b[1;33m\u001b[0m\u001b[0m\n\u001b[0m",
      "\u001b[1;31mAssertionError\u001b[0m: This assertion always triggers an error."
     ]
    }
   ],
   "source": [
    "assert False, \"This assertion always triggers an error.\""
   ]
  },
  {
   "cell_type": "markdown",
   "id": "ecbabe61",
   "metadata": {},
   "source": [
    "4. What are the two lines that must be present in your software in order to call logging.debug()?"
   ]
  },
  {
   "cell_type": "code",
   "execution_count": 4,
   "id": "b6651826",
   "metadata": {},
   "outputs": [],
   "source": [
    "import logging\n",
    "logging.basicConfig(level=logging.DEBUG)"
   ]
  },
  {
   "cell_type": "markdown",
   "id": "c4722b90",
   "metadata": {},
   "source": [
    "- To use the logging.debug() function, you need to import the logging module and then configure the logging level to DEBUG using the basicConfig() method from the logging module."
   ]
  },
  {
   "cell_type": "markdown",
   "id": "e26e926d",
   "metadata": {},
   "source": [
    "5. What are the two lines that your program must have in order to have logging.debug() send a logging message to a file named programLog.txt?"
   ]
  },
  {
   "cell_type": "code",
   "execution_count": 5,
   "id": "ceb4ce4e",
   "metadata": {},
   "outputs": [],
   "source": [
    "import logging\n",
    "logging.basicConfig(filename='programLog.txt', level=logging.DEBUG)\n"
   ]
  },
  {
   "cell_type": "markdown",
   "id": "9fbdbf6c",
   "metadata": {},
   "source": [
    "To send logging.debug() messages to a file named programLog.txt, you need to set the filename parameter to the desired filename in the basicConfig() method.\n",
    "\n",
    "Make sure to import the logging module and configure the logging level appropriately."
   ]
  },
  {
   "cell_type": "markdown",
   "id": "6830c4e0",
   "metadata": {},
   "source": [
    "6. What are the five levels of logging?"
   ]
  },
  {
   "cell_type": "markdown",
   "id": "0b05608c",
   "metadata": {},
   "source": [
    "Answer: - \n",
    "The five levels of logging, in increasing order of severity, are:\n",
    "\n",
    "- DEBUG\n",
    "- INFO\n",
    "- WARNING\n",
    "- ERROR\n",
    "- CRITICAL"
   ]
  },
  {
   "cell_type": "markdown",
   "id": "240752e9",
   "metadata": {},
   "source": [
    "7. What line of code would you add to your software to disable all logging messages?"
   ]
  },
  {
   "cell_type": "code",
   "execution_count": 6,
   "id": "0603c1d5",
   "metadata": {},
   "outputs": [],
   "source": [
    "logging.disable(logging.CRITICAL)"
   ]
  },
  {
   "cell_type": "markdown",
   "id": "2a557a84",
   "metadata": {},
   "source": [
    "Answer: - To disable all logging messages, you can use the logging.disable() function and pass it the logging level logging.CRITICAL. This will effectively disable all log messages with a severity level equal to or lower than CRITICAL."
   ]
  },
  {
   "cell_type": "markdown",
   "id": "2c7264fa",
   "metadata": {},
   "source": [
    "8. Why is using logging messages better than using print() to display the same message?"
   ]
  },
  {
   "cell_type": "markdown",
   "id": "cbe610ba",
   "metadata": {},
   "source": [
    "Answer: - Using logging messages has several advantages over using print() statements:\n",
    "\n",
    "- Logging messages can be easily enabled or disabled, allowing you to control the amount of output without modifying the code.\n",
    "- Logging messages can be directed to different outputs such as the console, files, or external services.\n",
    "- Logging messages support different severity levels, allowing you to filter and handle different types of messages appropriately.\n",
    "- Logging messages can include additional information like timestamps, loggers, and log levels, providing more context for troubleshooting and debugging."
   ]
  },
  {
   "cell_type": "markdown",
   "id": "f141c033",
   "metadata": {},
   "source": [
    "9. What are the differences between the Step Over, Step In, and Step Out buttons in the debugger?"
   ]
  },
  {
   "cell_type": "markdown",
   "id": "8bbebce4",
   "metadata": {},
   "source": [
    "Answer: - \n",
    "- Step Over: Executes the current line of code and moves to the next line in the same function. If the line contains a function call, it executes the entire function without stepping into it and moves to the next line after the function call.\n",
    "- Step In: If the current line contains a function call, it pauses execution and moves to the first line inside the called function, allowing you to step through that function line by line.\n",
    "- Step Out: Executes the remaining lines of the current function and returns to the calling function, allowing you to quickly step out of a function and continue execution at the caller's location."
   ]
  },
  {
   "cell_type": "markdown",
   "id": "0cb3f082",
   "metadata": {},
   "source": [
    "10. After you click Continue, when will the debugger stop ?"
   ]
  },
  {
   "cell_type": "markdown",
   "id": "18175d75",
   "metadata": {},
   "source": [
    "Answer: - After clicking the Continue button, the debugger will stop at the next breakpoint encountered in the code, if any. If there are no breakpoints set or encountered, the program will continue execution until completion without further interruption from the debugger."
   ]
  },
  {
   "cell_type": "markdown",
   "id": "de6a3b19",
   "metadata": {},
   "source": [
    "11. What is the concept of a breakpoint?"
   ]
  },
  {
   "cell_type": "markdown",
   "id": "c938c16b",
   "metadata": {},
   "source": [
    "Answer: - A breakpoint is a designated point in the code where the debugger pauses program execution, allowing you to inspect variables, step through the code, and analyze program behavior at that specific point. By setting breakpoints at specific lines or locations, you can control the flow of execution and observe the program's state at different stages."
   ]
  }
 ],
 "metadata": {
  "kernelspec": {
   "display_name": "Python 3",
   "language": "python",
   "name": "python3"
  },
  "language_info": {
   "codemirror_mode": {
    "name": "ipython",
    "version": 3
   },
   "file_extension": ".py",
   "mimetype": "text/x-python",
   "name": "python",
   "nbconvert_exporter": "python",
   "pygments_lexer": "ipython3",
   "version": "3.9.13"
  }
 },
 "nbformat": 4,
 "nbformat_minor": 5
}
