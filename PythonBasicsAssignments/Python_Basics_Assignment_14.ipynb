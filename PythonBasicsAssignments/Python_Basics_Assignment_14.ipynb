{
 "cells": [
  {
   "cell_type": "code",
   "execution_count": 1,
   "id": "3bd35522",
   "metadata": {},
   "outputs": [
    {
     "name": "stdout",
     "output_type": "stream",
     "text": [
      "Requirement already satisfied: pillow in c:\\users\\lenovo\\anaconda3\\lib\\site-packages (9.4.0)\n",
      "Note: you may need to restart the kernel to use updated packages.\n"
     ]
    },
    {
     "name": "stderr",
     "output_type": "stream",
     "text": [
      "WARNING: Ignoring invalid distribution -ffi (c:\\users\\lenovo\\appdata\\roaming\\python\\python39\\site-packages)\n",
      "WARNING: Ignoring invalid distribution -ffi (c:\\users\\lenovo\\appdata\\roaming\\python\\python39\\site-packages)\n",
      "WARNING: Ignoring invalid distribution -ffi (c:\\users\\lenovo\\appdata\\roaming\\python\\python39\\site-packages)\n",
      "WARNING: Error parsing requirements for pytz: [Errno 2] No such file or directory: 'c:\\\\users\\\\lenovo\\\\anaconda3\\\\lib\\\\site-packages\\\\pytz-2022.1.dist-info\\\\METADATA'\n",
      "WARNING: Ignoring invalid distribution -ffi (c:\\users\\lenovo\\appdata\\roaming\\python\\python39\\site-packages)\n",
      "WARNING: Ignoring invalid distribution -ffi (c:\\users\\lenovo\\appdata\\roaming\\python\\python39\\site-packages)\n",
      "WARNING: Ignoring invalid distribution -ffi (c:\\users\\lenovo\\appdata\\roaming\\python\\python39\\site-packages)\n",
      "WARNING: You are using pip version 21.1.3; however, version 23.1.2 is available.\n",
      "You should consider upgrading via the 'C:\\Users\\LENOVO\\anaconda3\\python.exe -m pip install --upgrade pip' command.\n"
     ]
    }
   ],
   "source": [
    "pip install pillow"
   ]
  },
  {
   "cell_type": "markdown",
   "id": "103e83ec",
   "metadata": {},
   "source": [
    "1. What does RGBA stand for?"
   ]
  },
  {
   "cell_type": "markdown",
   "id": "8767ac8c",
   "metadata": {},
   "source": [
    "Answer: - RGBA stands for Red, Green, Blue, and Alpha. It is a color model that represents colors using a combination of these four components. The alpha component represents the transparency or opacity of the color."
   ]
  },
  {
   "cell_type": "markdown",
   "id": "e8c9d6ba",
   "metadata": {},
   "source": [
    "2. From the Pillow module, how do you get the RGBA value of any images?"
   ]
  },
  {
   "cell_type": "markdown",
   "id": "0b943b21",
   "metadata": {},
   "source": [
    "Answer: - To get the RGBA value of an image using the Pillow module, you can use the getpixel() method of the Image object. Here's an example:"
   ]
  },
  {
   "cell_type": "code",
   "execution_count": 6,
   "id": "04d56e1e",
   "metadata": {},
   "outputs": [
    {
     "name": "stdout",
     "output_type": "stream",
     "text": [
      "(194, 220, 173)\n"
     ]
    }
   ],
   "source": [
    "from PIL import Image\n",
    "\n",
    "# Open the image\n",
    "image = Image.open('C:/Users/LENOVO/Downloads/cropped4108289086462633813.jpg')\n",
    "\n",
    "# Get the RGBA value at pixel (x, y)\n",
    "x = 10  # Replace with the desired x-coordinate\n",
    "y = 20  # Replace with the desired y-coordinate\n",
    "rgba_value = image.getpixel((x, y))\n",
    "\n",
    "print(rgba_value)"
   ]
  },
  {
   "cell_type": "markdown",
   "id": "74f7dc86",
   "metadata": {},
   "source": [
    "3. What is a box tuple, and how does it work?"
   ]
  },
  {
   "cell_type": "markdown",
   "id": "77d2d1b0",
   "metadata": {},
   "source": [
    "Answer: - A box tuple is a tuple of four values representing a rectangular region in an image. The values are (left, upper, right, lower), where (left, upper) are the coordinates of the top-left corner of the box, and (right, lower) are the coordinates of the bottom-right corner of the box. It defines a bounding box that can be used for cropping, resizing, or other operations on an image."
   ]
  },
  {
   "cell_type": "markdown",
   "id": "efc1bb40",
   "metadata": {},
   "source": [
    "4. Use your image and load in notebook then, How can you find out the width and height of an Image object?"
   ]
  },
  {
   "cell_type": "markdown",
   "id": "f7132deb",
   "metadata": {},
   "source": [
    "Answer: - To find the width and height of an Image object, you can use the size attribute. Here's an example:"
   ]
  },
  {
   "cell_type": "code",
   "execution_count": 5,
   "id": "fd26c2f3",
   "metadata": {},
   "outputs": [
    {
     "name": "stdout",
     "output_type": "stream",
     "text": [
      "1383 1384\n"
     ]
    }
   ],
   "source": [
    "width, height = image.size\n",
    "print(width, height)"
   ]
  },
  {
   "cell_type": "markdown",
   "id": "62c60fa8",
   "metadata": {},
   "source": [
    "5. What method would you call to get Image object for a 100×100 image, excluding the lower-left quarter of it?"
   ]
  },
  {
   "cell_type": "markdown",
   "id": "b1785732",
   "metadata": {},
   "source": [
    "Answer: - To get an Image object for a 100x100 image excluding the lower-left quarter, you can use the crop() method. Here's an example:"
   ]
  },
  {
   "cell_type": "code",
   "execution_count": 7,
   "id": "8bc700bd",
   "metadata": {},
   "outputs": [],
   "source": [
    "cropped_image = image.crop((0, 0, 50, 50))\n"
   ]
  },
  {
   "cell_type": "markdown",
   "id": "0ed91e4a",
   "metadata": {},
   "source": [
    "6. After making changes to an Image object, how could you save it as an image file?"
   ]
  },
  {
   "cell_type": "markdown",
   "id": "caf019be",
   "metadata": {},
   "source": [
    "Answer: - To save an Image object as an image file, you can use the save() method. Here's an example:"
   ]
  },
  {
   "cell_type": "code",
   "execution_count": 8,
   "id": "1fb3e655",
   "metadata": {},
   "outputs": [],
   "source": [
    "image.save('C:/Users/LENOVO/Downloads/new_img.jpg')"
   ]
  },
  {
   "cell_type": "markdown",
   "id": "a290fdf6",
   "metadata": {},
   "source": [
    "7. What module contains Pillow’s shape-drawing code?"
   ]
  },
  {
   "cell_type": "markdown",
   "id": "2179f49c",
   "metadata": {},
   "source": [
    "Answer: - The Pillow module itself contains the shape-drawing code for drawing shapes such as lines, rectangles, ellipses, etc., on Image objects."
   ]
  },
  {
   "cell_type": "markdown",
   "id": "3272fa66",
   "metadata": {},
   "source": [
    "8. Image objects do not have drawing methods. What kind of object does? How do you get this kind of object?"
   ]
  },
  {
   "cell_type": "markdown",
   "id": "268216d6",
   "metadata": {},
   "source": [
    "Answer: - The ImageDraw object from the Pillow module is used for drawing on Image objects. You can get an ImageDraw object by importing and creating an instance of the ImageDraw class. Here's an example:"
   ]
  },
  {
   "cell_type": "code",
   "execution_count": 9,
   "id": "ec6e9d32",
   "metadata": {},
   "outputs": [],
   "source": [
    "from PIL import Image, ImageDraw\n",
    "\n",
    "image = Image.open('C:/Users/LENOVO/Downloads/cropped4108289086462633813.jpg')\n",
    "draw = ImageDraw.Draw(image)\n"
   ]
  }
 ],
 "metadata": {
  "kernelspec": {
   "display_name": "Python 3",
   "language": "python",
   "name": "python3"
  },
  "language_info": {
   "codemirror_mode": {
    "name": "ipython",
    "version": 3
   },
   "file_extension": ".py",
   "mimetype": "text/x-python",
   "name": "python",
   "nbconvert_exporter": "python",
   "pygments_lexer": "ipython3",
   "version": "3.9.13"
  }
 },
 "nbformat": 4,
 "nbformat_minor": 5
}
