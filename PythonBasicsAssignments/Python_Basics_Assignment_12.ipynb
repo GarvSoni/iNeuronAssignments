{
 "cells": [
  {
   "cell_type": "code",
   "execution_count": 1,
   "id": "1f8c0d5f",
   "metadata": {},
   "outputs": [
    {
     "name": "stdout",
     "output_type": "stream",
     "text": [
      "Requirement already satisfied: PyPDF2 in c:\\users\\lenovo\\anaconda3\\lib\\site-packages (3.0.1)\n",
      "Collecting python-docx\n",
      "  Downloading python-docx-0.8.11.tar.gz (5.6 MB)\n",
      "Requirement already satisfied: typing_extensions>=3.10.0.0 in c:\\users\\lenovo\\anaconda3\\lib\\site-packages (from PyPDF2) (3.10.0.2)\n",
      "Requirement already satisfied: lxml>=2.3.2 in c:\\users\\lenovo\\appdata\\roaming\\python\\python39\\site-packages (from python-docx) (4.8.0)\n",
      "Building wheels for collected packages: python-docx\n",
      "  Building wheel for python-docx (setup.py): started\n",
      "  Building wheel for python-docx (setup.py): finished with status 'done'\n",
      "  Created wheel for python-docx: filename=python_docx-0.8.11-py3-none-any.whl size=184519 sha256=b7bdec1659273557609aa244661918f05068fc381eb9d047f983381db66366c0\n",
      "  Stored in directory: c:\\users\\lenovo\\appdata\\local\\pip\\cache\\wheels\\83\\8b\\7c\\09ae60c42c7ba4ed2dddaf2b8b9186cb105255856d6ed3dba5\n",
      "Successfully built python-docx\n",
      "Installing collected packages: python-docx\n",
      "Successfully installed python-docx-0.8.11\n",
      "Note: you may need to restart the kernel to use updated packages.\n"
     ]
    },
    {
     "name": "stderr",
     "output_type": "stream",
     "text": [
      "WARNING: Ignoring invalid distribution -ffi (c:\\users\\lenovo\\appdata\\roaming\\python\\python39\\site-packages)\n",
      "WARNING: Ignoring invalid distribution -ffi (c:\\users\\lenovo\\appdata\\roaming\\python\\python39\\site-packages)\n",
      "WARNING: Ignoring invalid distribution -ffi (c:\\users\\lenovo\\appdata\\roaming\\python\\python39\\site-packages)\n",
      "WARNING: Error parsing requirements for pytz: [Errno 2] No such file or directory: 'c:\\\\users\\\\lenovo\\\\anaconda3\\\\lib\\\\site-packages\\\\pytz-2022.1.dist-info\\\\METADATA'\n",
      "WARNING: Ignoring invalid distribution -ffi (c:\\users\\lenovo\\appdata\\roaming\\python\\python39\\site-packages)\n",
      "WARNING: Ignoring invalid distribution -ffi (c:\\users\\lenovo\\appdata\\roaming\\python\\python39\\site-packages)\n",
      "WARNING: Ignoring invalid distribution -ffi (c:\\users\\lenovo\\appdata\\roaming\\python\\python39\\site-packages)\n",
      "WARNING: You are using pip version 21.1.3; however, version 23.1.2 is available.\n",
      "You should consider upgrading via the 'C:\\Users\\LENOVO\\anaconda3\\python.exe -m pip install --upgrade pip' command.\n"
     ]
    }
   ],
   "source": [
    "pip install PyPDF2 python-docx"
   ]
  },
  {
   "cell_type": "markdown",
   "id": "db324b3c",
   "metadata": {},
   "source": [
    "1. In what modes should the PdfFileReader() and PdfFileWriter() File objects will be opened?"
   ]
  },
  {
   "cell_type": "markdown",
   "id": "61ae5a19",
   "metadata": {},
   "source": [
    "Answer: - \n",
    "- PdfFileReader() should be opened in 'rb' mode (read binary).\n",
    "- PdfFileWriter() should be opened in 'wb' mode (write binary)."
   ]
  },
  {
   "cell_type": "markdown",
   "id": "ca93682b",
   "metadata": {},
   "source": [
    "2. From a PdfFileReader object, how do you get a Page object for page 5?"
   ]
  },
  {
   "cell_type": "markdown",
   "id": "6d74b0dd",
   "metadata": {},
   "source": [
    "Answer: -\n",
    "- PdfFileReader has been deprecated and removed in PyPDF2 version 3.0.0.\n",
    "\n",
    "- because of that I am replacing PdfFileReader with PdfReader in my code. Here's an example:"
   ]
  },
  {
   "cell_type": "code",
   "execution_count": 6,
   "id": "85ac67c2",
   "metadata": {},
   "outputs": [
    {
     "name": "stdout",
     "output_type": "stream",
     "text": [
      "Question6-\n",
      "UsingthedatafromQuestion3,writecodetoanalyzethedataandanswerthefollowingquestionsNote1.\n",
      "Drawplotstodemonstratetheanalysisforthefollowingquestionsforbettervisualizations.\n",
      "2.Writecodecommentswhereverrequiredforcodeunderstanding\n",
      "Insightstobedrawn-\n",
      "●GetallPokemonswhosespawnrateislessthan5% \n",
      "●GetallPokemonsthathavelessthan4weaknesses \n",
      "●GetallPokemonsthathavenomultipliersatall \n",
      "●GetallPokemonsthatdonothavemorethan2evolutions \n",
      "●GetallPokemonswhosespawntimeislessthan300seconds.\n",
      "Note-spawntimeformatis\"05:32”,soassume“minute:second”formatandperformtheanalysis.\n",
      "●GetallPokemonwhohavemorethantwotypesofcapabilities\n",
      "Question7-\n",
      "UsingthedatafromQuestion4,writecodetoanalyzethedataandanswerthefollowingquestionsNote-\n",
      "1.Drawplotstodemonstratetheanalysisforthefollowingquestionsforbettervisualizations\n",
      "2.Writecodecommentswhereverrequiredforcodeunderstanding\n",
      "Insightstobedrawn-\n",
      "●GetalltheEarthmeteoritesthatfellbeforetheyear2000 \n",
      "●Getalltheearthmeteoritesco-ordinateswhofellbeforetheyear1970 \n",
      "●Assumingthatthemassoftheearthmeteoriteswasinkg,getallthosewhosemasswasmorethan10000kg\n"
     ]
    }
   ],
   "source": [
    "from PyPDF2 import PdfReader\n",
    "\n",
    "# Provide the path to your PDF file\n",
    "pdf_path = 'C:/Users/LENOVO/Downloads/Data_science.pdf'\n",
    "\n",
    "\n",
    "# Open the PDF file using PdfReader\n",
    "pdf_reader = PdfReader(pdf_path)\n",
    "\n",
    "# Access a specific page from the PDF\n",
    "page = pdf_reader.pages[4]\n",
    "text = page.extract_text()\n",
    "print(text)"
   ]
  },
  {
   "cell_type": "markdown",
   "id": "77639aa6",
   "metadata": {},
   "source": [
    "3. What PdfFileReader variable stores the number of pages in the PDF document?"
   ]
  },
  {
   "cell_type": "markdown",
   "id": "ffb33493",
   "metadata": {},
   "source": [
    "Answer: - The numPages variable of the PdfFileReader object stores the number of pages in the PDF document. You can access it like this:"
   ]
  },
  {
   "cell_type": "code",
   "execution_count": 7,
   "id": "620182c8",
   "metadata": {},
   "outputs": [
    {
     "name": "stdout",
     "output_type": "stream",
     "text": [
      "21\n"
     ]
    }
   ],
   "source": [
    "num_pages = len(pdf_reader.pages)\n",
    "print(num_pages)"
   ]
  },
  {
   "cell_type": "markdown",
   "id": "d44ac96f",
   "metadata": {},
   "source": [
    "4. If a PdfFileReader object’s PDF is encrypted with the password swordfish, what must you do before you can obtain Page objects from it?"
   ]
  },
  {
   "cell_type": "markdown",
   "id": "3e1769d2",
   "metadata": {},
   "source": [
    "Answer: - If the PDF is encrypted with a password, you need to use the decrypt('password') method of the PdfFileReader object to decrypt it before you can obtain Page objects. Replace 'password' with the actual password. Here's an example:"
   ]
  },
  {
   "cell_type": "code",
   "execution_count": 10,
   "id": "205425d6",
   "metadata": {},
   "outputs": [],
   "source": [
    "# i dont have any encrypted file right now this is just an example code\n",
    "\n",
    "\n",
    "# pdf_reader.decrypt('helloworld')"
   ]
  },
  {
   "cell_type": "markdown",
   "id": "a3fa7de4",
   "metadata": {},
   "source": [
    "5. What methods do you use to rotate a page?"
   ]
  },
  {
   "cell_type": "markdown",
   "id": "580b7a71",
   "metadata": {},
   "source": [
    "Answer: - To rotate a page in a PdfFileWriter object, you can use the rotateClockwise() and rotateCounterClockwise() methods of the PageObject class. Here's an example to rotate a page clockwise by 90 degrees:"
   ]
  },
  {
   "cell_type": "code",
   "execution_count": 13,
   "id": "87fd00ef",
   "metadata": {},
   "outputs": [
    {
     "data": {
      "text/plain": [
       "{'/Type': '/Page',\n",
       " '/Resources': {'/ProcSet': ['/PDF', '/Text', '/ImageB', '/ImageC', '/ImageI'],\n",
       "  '/ExtGState': {'/G3': {'/ca': 1, '/BM': '/Normal'}},\n",
       "  '/Font': {'/F4': {'/Type': '/Font',\n",
       "    '/Subtype': '/Type0',\n",
       "    '/BaseFont': '/AAAAAA+Calibri-Bold',\n",
       "    '/Encoding': '/Identity-H',\n",
       "    '/DescendantFonts': [IndirectObject(85, 0, 2242865069024)],\n",
       "    '/ToUnicode': {'/Filter': '/FlateDecode'}},\n",
       "   '/F6': {'/Type': '/Font',\n",
       "    '/Subtype': '/Type0',\n",
       "    '/BaseFont': '/CAAAAA+Calibri',\n",
       "    '/Encoding': '/Identity-H',\n",
       "    '/DescendantFonts': [IndirectObject(93, 0, 2242865069024)],\n",
       "    '/ToUnicode': {'/Filter': '/FlateDecode'}},\n",
       "   '/F11': {'/Type': '/Font',\n",
       "    '/Subtype': '/Type0',\n",
       "    '/BaseFont': '/FAAAAA+ArialMT',\n",
       "    '/Encoding': '/Identity-H',\n",
       "    '/DescendantFonts': [IndirectObject(105, 0, 2242865069024)],\n",
       "    '/ToUnicode': {'/Filter': '/FlateDecode'}}}},\n",
       " '/MediaBox': [0, 0, 596, 842],\n",
       " '/Contents': {'/Filter': '/FlateDecode'},\n",
       " '/StructParents': 4,\n",
       " '/Parent': {'/Type': '/Pages',\n",
       "  '/Count': 8,\n",
       "  '/Kids': [IndirectObject(2, 0, 2242865069024),\n",
       "   IndirectObject(10, 0, 2242865069024),\n",
       "   IndirectObject(14, 0, 2242865069024),\n",
       "   IndirectObject(17, 0, 2242865069024),\n",
       "   IndirectObject(20, 0, 2242865069024),\n",
       "   IndirectObject(22, 0, 2242865069024),\n",
       "   IndirectObject(24, 0, 2242865069024),\n",
       "   IndirectObject(27, 0, 2242865069024)],\n",
       "  '/Parent': {'/Type': '/Pages',\n",
       "   '/Count': 21,\n",
       "   '/Kids': [IndirectObject(77, 0, 2242865069024),\n",
       "    IndirectObject(78, 0, 2242865069024),\n",
       "    IndirectObject(79, 0, 2242865069024)]}},\n",
       " '/Rotate': 90}"
      ]
     },
     "execution_count": 13,
     "metadata": {},
     "output_type": "execute_result"
    }
   ],
   "source": [
    "page.rotate(90)  # Rotate the page clockwise by 90 degrees"
   ]
  },
  {
   "cell_type": "markdown",
   "id": "69dbb82e",
   "metadata": {},
   "source": [
    "6. What is the difference between a Run object and a Paragraph object?"
   ]
  },
  {
   "cell_type": "markdown",
   "id": "4dc555b5",
   "metadata": {},
   "source": [
    "Answer: - \n",
    "- In the context of Word documents (using the python-docx library), a Run object represents a contiguous run of text within a paragraph with the same character formatting. It can contain multiple styles or formatting changes within the run.\n",
    "- A Paragraph object represents a single paragraph in a document. It contains one or more Run objects."
   ]
  },
  {
   "cell_type": "markdown",
   "id": "3af9005b",
   "metadata": {},
   "source": [
    "7. How do you obtain a list of Paragraph objects for a Document object that’s stored in a variable named doc?"
   ]
  },
  {
   "cell_type": "markdown",
   "id": "2d4cb611",
   "metadata": {},
   "source": [
    "Answer: - \n",
    "- You can use the paragraphs attribute of the Document object to obtain a list of Paragraph objects. Here's an example:"
   ]
  },
  {
   "cell_type": "code",
   "execution_count": null,
   "id": "46040a1c",
   "metadata": {},
   "outputs": [],
   "source": [
    "from docx import Document\n",
    "\n",
    "# Create a new Document object\n",
    "# doc = Document()\n",
    "\n",
    "# Add a paragraph to the document\n",
    "doc.add_paragraph('Hello, there!')\n",
    "\n",
    "# Access the paragraphs in the document\n",
    "paragraphs = doc.paragraphs\n",
    "\n",
    "# Iterate over the paragraphs and print their text\n",
    "for paragraph in paragraphs:\n",
    "    print(paragraph.text)\n"
   ]
  },
  {
   "cell_type": "markdown",
   "id": "a22a8a73",
   "metadata": {},
   "source": [
    "8. What type of object has bold, underline, italic, strike, and outline variables?"
   ]
  },
  {
   "cell_type": "markdown",
   "id": "27891bfa",
   "metadata": {},
   "source": [
    "Answer: - The Run object has the bold, underline, italic, strike, and outline variables. These variables represent different character formatting options for the run of text."
   ]
  },
  {
   "cell_type": "markdown",
   "id": "11936616",
   "metadata": {},
   "source": [
    "9. What is the difference between False, True, and None for the bold variable?"
   ]
  },
  {
   "cell_type": "markdown",
   "id": "ec087cfb",
   "metadata": {},
   "source": [
    "Answer: - In the context of the bold variable in a Run object:\n",
    "- False means the text is not bold.\n",
    "- True means the text is bold.\n",
    "- None means the text inherits the bold formatting from the style hierarchy."
   ]
  },
  {
   "cell_type": "markdown",
   "id": "13c0f9f4",
   "metadata": {},
   "source": [
    "10. How do you create a Document object for a new Word document?"
   ]
  },
  {
   "cell_type": "markdown",
   "id": "a9dcd06a",
   "metadata": {},
   "source": [
    "Answer: - You can create a Document object for a new Word document using the Document() constructor from the python-docx library. Here's an example:"
   ]
  },
  {
   "cell_type": "code",
   "execution_count": 16,
   "id": "9994e17f",
   "metadata": {},
   "outputs": [],
   "source": [
    "from docx import Document\n",
    "\n",
    "doc = Document()\n"
   ]
  },
  {
   "cell_type": "markdown",
   "id": "5135c81f",
   "metadata": {},
   "source": [
    "11. How do you add a paragraph with the text 'Hello, there!' to a Document object stored in a variable named doc?"
   ]
  },
  {
   "cell_type": "markdown",
   "id": "facb9299",
   "metadata": {},
   "source": [
    "Answer: - You can use the add_paragraph() method of the Document object to add a paragraph with specific text. Here's an example:"
   ]
  },
  {
   "cell_type": "code",
   "execution_count": 20,
   "id": "ebde2e81",
   "metadata": {},
   "outputs": [
    {
     "data": {
      "text/plain": [
       "<docx.text.paragraph.Paragraph at 0x20a356300a0>"
      ]
     },
     "execution_count": 20,
     "metadata": {},
     "output_type": "execute_result"
    }
   ],
   "source": [
    "doc.add_paragraph('Hello, there!')\n"
   ]
  },
  {
   "cell_type": "markdown",
   "id": "df64da0d",
   "metadata": {},
   "source": [
    "12. What integers represent the levels of headings available in Word documents?"
   ]
  },
  {
   "cell_type": "markdown",
   "id": "da299e1c",
   "metadata": {},
   "source": [
    "Answer: - In Word documents, the integers 0 to 9 represent the levels of headings available. Level 0 is the highest (main heading) and level 9 is the lowest (sub-sub-sub-sub-sub-sub-sub-sub-heading)."
   ]
  }
 ],
 "metadata": {
  "kernelspec": {
   "display_name": "Python 3",
   "language": "python",
   "name": "python3"
  },
  "language_info": {
   "codemirror_mode": {
    "name": "ipython",
    "version": 3
   },
   "file_extension": ".py",
   "mimetype": "text/x-python",
   "name": "python",
   "nbconvert_exporter": "python",
   "pygments_lexer": "ipython3",
   "version": "3.9.13"
  }
 },
 "nbformat": 4,
 "nbformat_minor": 5
}
