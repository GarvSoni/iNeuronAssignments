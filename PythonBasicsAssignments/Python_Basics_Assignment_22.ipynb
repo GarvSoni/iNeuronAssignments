{
 "cells": [
  {
   "cell_type": "markdown",
   "id": "4c31d416",
   "metadata": {},
   "source": [
    "1. What is the result of the code, and explain?\n"
   ]
  },
  {
   "cell_type": "code",
   "execution_count": 1,
   "id": "6759e9a8",
   "metadata": {},
   "outputs": [
    {
     "name": "stdout",
     "output_type": "stream",
     "text": [
      "iNeuron\n"
     ]
    }
   ],
   "source": [
    "X = 'iNeuron'\n",
    "def func():\n",
    "    print(X)\n",
    "\n",
    "func()\n"
   ]
  },
  {
   "cell_type": "markdown",
   "id": "1f92cd67",
   "metadata": {},
   "source": [
    "Result: It will print 'iNeuron'.\n",
    "Explanation: The variable X is defined outside the function func, so it is a global variable. Inside the function, when print(X) is executed, it accesses the global variable X and prints its value, which is 'iNeuron'."
   ]
  },
  {
   "cell_type": "markdown",
   "id": "e92181bf",
   "metadata": {},
   "source": [
    "2. What is the result of the code, and explain?\n"
   ]
  },
  {
   "cell_type": "code",
   "execution_count": 2,
   "id": "8d9714e3",
   "metadata": {},
   "outputs": [
    {
     "name": "stdout",
     "output_type": "stream",
     "text": [
      "iNeuron\n"
     ]
    }
   ],
   "source": [
    "X = 'iNeuron'\n",
    "def func():\n",
    "    X = 'NI!'\n",
    "\n",
    "func()\n",
    "print(X)\n"
   ]
  },
  {
   "cell_type": "markdown",
   "id": "3020dcf9",
   "metadata": {},
   "source": [
    "Result: It will print 'iNeuron'.\n",
    "Explanation: Inside the function func, a new local variable X is assigned the value 'NI!', but this assignment does not affect the global variable X. When print(X) is executed outside the function, it accesses the global variable X and prints its value, which is 'iNeuron'."
   ]
  },
  {
   "cell_type": "markdown",
   "id": "71be48cd",
   "metadata": {},
   "source": [
    "3. What does this code print, and why?\n",
    "\n"
   ]
  },
  {
   "cell_type": "code",
   "execution_count": 3,
   "id": "9c2e0993",
   "metadata": {},
   "outputs": [
    {
     "name": "stdout",
     "output_type": "stream",
     "text": [
      "NI\n",
      "iNeuron\n"
     ]
    }
   ],
   "source": [
    "X = 'iNeuron'\n",
    "def func():\n",
    "    X = 'NI'\n",
    "    print(X)\n",
    "\n",
    "func()\n",
    "print(X)\n"
   ]
  },
  {
   "cell_type": "markdown",
   "id": "2b31cb18",
   "metadata": {},
   "source": [
    "Result: It will print 'NI' followed by 'iNeuron'.\n",
    "Explanation: Inside the function func, a new local variable X is assigned the value 'NI'. When print(X) is executed inside the function, it prints the value of the local variable X, which is 'NI'. Outside the function, when print(X) is executed, it accesses the global variable X and prints its value, which is 'iNeuron'."
   ]
  },
  {
   "cell_type": "markdown",
   "id": "882f3f9a",
   "metadata": {},
   "source": [
    "\n",
    "4. What output does this code produce? Why?\n"
   ]
  },
  {
   "cell_type": "code",
   "execution_count": 4,
   "id": "76e53808",
   "metadata": {},
   "outputs": [
    {
     "name": "stdout",
     "output_type": "stream",
     "text": [
      "NI\n"
     ]
    }
   ],
   "source": [
    "X = 'iNeuron'\n",
    "def func():\n",
    "    global X\n",
    "    X = 'NI'\n",
    "\n",
    "func()\n",
    "print(X)\n"
   ]
  },
  {
   "cell_type": "markdown",
   "id": "64d4f056",
   "metadata": {},
   "source": [
    "Result: It will print 'NI'.\n",
    "Explanation: The global keyword inside the function func indicates that the variable X refers to the global variable X, not a local variable. Therefore, the assignment X = 'NI' modifies the global variable X. When print(X) is executed outside the function, it prints the updated value of the global variable X, which is 'NI'."
   ]
  },
  {
   "cell_type": "markdown",
   "id": "2647d80f",
   "metadata": {},
   "source": [
    "5. What about this code—what’s the output, and why?\n"
   ]
  },
  {
   "cell_type": "code",
   "execution_count": 5,
   "id": "e8220ee3",
   "metadata": {},
   "outputs": [
    {
     "name": "stdout",
     "output_type": "stream",
     "text": [
      "NI\n",
      "iNeuron\n"
     ]
    }
   ],
   "source": [
    "X = 'iNeuron'\n",
    "def func():\n",
    "    X = 'NI'\n",
    "    def nested():\n",
    "        print(X)\n",
    "    nested()\n",
    "\n",
    "func()\n",
    "print(X)\n"
   ]
  },
  {
   "cell_type": "markdown",
   "id": "25544600",
   "metadata": {},
   "source": [
    "Result: It will print 'NI' followed by 'iNeuron'.\n",
    "Explanation: Inside the function nested, the statement print(X) tries to access the variable X from the enclosing scope of nested, which is the func function. Since X is not defined in the local scope of nested, it looks in the enclosing scope, finds the variable X with the value 'NI', and prints it. Outside the function, when print(X) is executed, it accesses the global variable X and prints its value, which is 'iNeuron'."
   ]
  },
  {
   "cell_type": "markdown",
   "id": "986e7082",
   "metadata": {},
   "source": [
    "6. How about this code: what is its output in Python 3, and explain?\n"
   ]
  },
  {
   "cell_type": "code",
   "execution_count": 6,
   "id": "4740af52",
   "metadata": {},
   "outputs": [
    {
     "name": "stdout",
     "output_type": "stream",
     "text": [
      "Spam\n"
     ]
    }
   ],
   "source": [
    "def func():\n",
    "    X = 'NI'\n",
    "    def nested():\n",
    "        nonlocal X\n",
    "        X = 'Spam'\n",
    "    nested()\n",
    "    print(X)\n",
    "\n",
    "func()\n"
   ]
  },
  {
   "cell_type": "markdown",
   "id": "39eea48a",
   "metadata": {},
   "source": [
    "Result: It will print 'Spam'.\n",
    "Explanation: The nonlocal keyword inside the function nested indicates that the variable X refers to the variable X in the nearest enclosing scope, which is the func function. When X = 'Spam' is executed inside nested, it modifies the value of the variable X in the enclosing scope, which is 'NI'. Therefore, when print(X) is executed inside func, it prints the updated value of X, which is 'Spam'."
   ]
  }
 ],
 "metadata": {
  "kernelspec": {
   "display_name": "Python 3",
   "language": "python",
   "name": "python3"
  },
  "language_info": {
   "codemirror_mode": {
    "name": "ipython",
    "version": 3
   },
   "file_extension": ".py",
   "mimetype": "text/x-python",
   "name": "python",
   "nbconvert_exporter": "python",
   "pygments_lexer": "ipython3",
   "version": "3.9.13"
  }
 },
 "nbformat": 4,
 "nbformat_minor": 5
}
