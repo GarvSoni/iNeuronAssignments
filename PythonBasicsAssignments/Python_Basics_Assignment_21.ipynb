{
 "cells": [
  {
   "cell_type": "code",
   "execution_count": 1,
   "id": "91ea362b",
   "metadata": {},
   "outputs": [],
   "source": [
    "import os\n",
    "import multiprocessing\n",
    "import random\n",
    "import time\n",
    "from datetime import datetime"
   ]
  },
  {
   "cell_type": "markdown",
   "id": "70c25827",
   "metadata": {},
   "source": [
    "1. Add the current date to the text file today.txt as a string."
   ]
  },
  {
   "cell_type": "code",
   "execution_count": 2,
   "id": "e521b14d",
   "metadata": {},
   "outputs": [],
   "source": [
    "import datetime\n",
    "\n",
    "current_date = datetime.date.today().strftime(\"%Y-%m-%d\")\n",
    "with open(\"dependencies/today.txt\", \"w\") as file:\n",
    "    file.write(current_date)\n"
   ]
  },
  {
   "cell_type": "markdown",
   "id": "cb293e5c",
   "metadata": {},
   "source": [
    "2. Read the text file today.txt into the string today_string"
   ]
  },
  {
   "cell_type": "code",
   "execution_count": 3,
   "id": "ab0c347d",
   "metadata": {},
   "outputs": [],
   "source": [
    "with open(\"today.txt\", \"r\") as file:\n",
    "    today_string = file.read()\n"
   ]
  },
  {
   "cell_type": "markdown",
   "id": "fe2f76fc",
   "metadata": {},
   "source": [
    "3. Parse the date from today_string."
   ]
  },
  {
   "cell_type": "code",
   "execution_count": 4,
   "id": "08fafbc7",
   "metadata": {},
   "outputs": [],
   "source": [
    "parsed_date = datetime.datetime.strptime(today_string, \"%Y-%m-%d\").date()\n"
   ]
  },
  {
   "cell_type": "markdown",
   "id": "c9c4193b",
   "metadata": {},
   "source": [
    "4. List the files in your current directory"
   ]
  },
  {
   "cell_type": "code",
   "execution_count": 5,
   "id": "910308d2",
   "metadata": {},
   "outputs": [
    {
     "name": "stdout",
     "output_type": "stream",
     "text": [
      "['.ipynb_checkpoints', 'books.csv', 'books.db', 'copy', 'dependencies', 'Python_Basics_Assignment_10.ipynb', 'Python_Basics_Assignment_11.ipynb', 'Python_Basics_Assignment_12.ipynb', 'Python_Basics_Assignment_14.ipynb', 'Python_Basics_Assignment_15.ipynb', 'Python_Basics_Assignment_16.ipynb', 'Python_Basics_Assignment_17.ipynb', 'Python_Basics_Assignment_18.ipynb', 'Python_Basics_Assignment_19.ipynb', 'Python_Basics_Assignment_20.ipynb', 'Python_Basics_Assignment_21.ipynb', 'Python_Basics_Assignment_5.ipynb', 'test.txt', 'today.txt']\n"
     ]
    }
   ],
   "source": [
    "import os\n",
    "\n",
    "current_directory = os.listdir()\n",
    "print(current_directory)\n"
   ]
  },
  {
   "cell_type": "markdown",
   "id": "4eacf421",
   "metadata": {},
   "source": [
    "5. Create a list of all of the files in your parent directory (minimum five files should be available)."
   ]
  },
  {
   "cell_type": "code",
   "execution_count": 6,
   "id": "8face00c",
   "metadata": {},
   "outputs": [
    {
     "name": "stdout",
     "output_type": "stream",
     "text": [
      "['10decClass.ipynb', '11DecClass.ipynb', '11MarClassEDA1.ipynb', '12MarClassEDA2.ipynb', '12NovClass.ipynb']\n"
     ]
    }
   ],
   "source": [
    "parent_directory = os.listdir(\"..\")\n",
    "file_list = [file for file in parent_directory if os.path.isfile(os.path.join(\"..\", file))]\n",
    "print(file_list[:5])  # Print the first five files\n"
   ]
  },
  {
   "cell_type": "markdown",
   "id": "3c960853",
   "metadata": {},
   "source": [
    "6. Use multiprocessing to create three separate processes. Make each one wait a random number of seconds between one and five, print the current time, and then exit."
   ]
  },
  {
   "cell_type": "code",
   "execution_count": 7,
   "id": "3cb86d3f",
   "metadata": {},
   "outputs": [],
   "source": [
    "\n",
    "\n",
    "def print_current_time():\n",
    "    wait_time = random.randint(1, 5)\n",
    "    time.sleep(wait_time)\n",
    "    current_time = datetime.now().strftime(\"%H:%M:%S\")\n",
    "    print(f\"Process ID: {multiprocessing.current_process().pid}, Current Time: {current_time}\")\n",
    "\n",
    "processes = []\n",
    "for _ in range(3):\n",
    "    p = multiprocessing.Process(target=print_current_time)\n",
    "    p.start()\n",
    "    processes.append(p)\n",
    "\n",
    "for process in processes:\n",
    "    process.join()\n"
   ]
  },
  {
   "cell_type": "markdown",
   "id": "03264763",
   "metadata": {},
   "source": [
    "7. Create a date object of your day of birth."
   ]
  },
  {
   "cell_type": "code",
   "execution_count": 8,
   "id": "e91d7481",
   "metadata": {},
   "outputs": [],
   "source": [
    "birth_date = datetime.date(year=2001, month=1, day=23)\n"
   ]
  },
  {
   "cell_type": "markdown",
   "id": "116fece9",
   "metadata": {},
   "source": [
    "8. What day of the week was your day of birth?"
   ]
  },
  {
   "cell_type": "code",
   "execution_count": 9,
   "id": "f507c5a0",
   "metadata": {},
   "outputs": [
    {
     "name": "stdout",
     "output_type": "stream",
     "text": [
      "Tuesday\n"
     ]
    }
   ],
   "source": [
    "birth_day_of_week = birth_date.strftime(\"%A\")\n",
    "print(birth_day_of_week)\n"
   ]
  },
  {
   "cell_type": "markdown",
   "id": "bdf114e3",
   "metadata": {},
   "source": [
    "9. When will you be (or when were you) 10,000 days old?\n"
   ]
  },
  {
   "cell_type": "code",
   "execution_count": 10,
   "id": "84caa9ab",
   "metadata": {},
   "outputs": [
    {
     "name": "stdout",
     "output_type": "stream",
     "text": [
      "2028-06-10\n"
     ]
    }
   ],
   "source": [
    "delta = datetime.timedelta(days=10000)\n",
    "future_date = birth_date + delta\n",
    "print(future_date)\n"
   ]
  },
  {
   "cell_type": "code",
   "execution_count": null,
   "id": "4a10a717",
   "metadata": {},
   "outputs": [],
   "source": []
  }
 ],
 "metadata": {
  "kernelspec": {
   "display_name": "Python 3",
   "language": "python",
   "name": "python3"
  },
  "language_info": {
   "codemirror_mode": {
    "name": "ipython",
    "version": 3
   },
   "file_extension": ".py",
   "mimetype": "text/x-python",
   "name": "python",
   "nbconvert_exporter": "python",
   "pygments_lexer": "ipython3",
   "version": "3.9.13"
  }
 },
 "nbformat": 4,
 "nbformat_minor": 5
}
