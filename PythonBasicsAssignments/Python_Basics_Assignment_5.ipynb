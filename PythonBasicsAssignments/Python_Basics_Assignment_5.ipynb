{
 "cells": [
  {
   "cell_type": "markdown",
   "id": "6107f375",
   "metadata": {},
   "source": [
    "1. What does an empty dictionary's code look like?\n",
    "2. What is the value of a dictionary value with the key 'foo' and the value 42?\n",
    "3. What is the most significant distinction between a dictionary and a list?\n",
    "4. What happens if you try to access spam['foo'] if spam is {'bar': 100}?\n",
    "5. If a dictionary is stored in spam, what is the difference between the expressions 'cat' in spam and 'cat' in spam.keys()?\n",
    "6. If a dictionary is stored in spam, what is the difference between the expressions 'cat' in spam and 'cat' in spam.values()?\n",
    "7. What is a shortcut for the following code?\n",
    "if 'color' not in spam:\n",
    "spam['color'] = 'black'\n",
    "\n",
    "8. How do you \"pretty print\" dictionary values using which module and function?\n"
   ]
  },
  {
   "cell_type": "markdown",
   "id": "44de0909",
   "metadata": {},
   "source": [
    "####  1. What does an empty dictionary's code look like?"
   ]
  },
  {
   "cell_type": "code",
   "execution_count": 1,
   "id": "b41f55be",
   "metadata": {},
   "outputs": [],
   "source": [
    "# An empty dictionary is represented by a pair of curly braces {}.\n",
    "my_dict = {}\n",
    "my_dict1 = dict()"
   ]
  },
  {
   "cell_type": "markdown",
   "id": "80c42373",
   "metadata": {},
   "source": [
    "#### 2. What is the value of a dictionary value with the key 'foo' and the value 42?"
   ]
  },
  {
   "cell_type": "code",
   "execution_count": 2,
   "id": "cb9dcb58",
   "metadata": {},
   "outputs": [],
   "source": [
    "# The value of a dictionary with the key 'foo' and the value 42 would be:\n",
    "my_dict = {'foo': 42}"
   ]
  },
  {
   "cell_type": "markdown",
   "id": "cea87994",
   "metadata": {},
   "source": [
    "#### 3. What is the most significant distinction between a dictionary and a list?"
   ]
  },
  {
   "cell_type": "markdown",
   "id": "ac8025b1",
   "metadata": {},
   "source": [
    "Answers: - The most significant distinction between a dictionary and a list is that a dictionary is an unordered collection of key-value pairs, while a list is an ordered collection of elements. In a dictionary, you access values by their associated keys, whereas in a list, you access elements by their indices."
   ]
  },
  {
   "cell_type": "markdown",
   "id": "f1809708",
   "metadata": {},
   "source": [
    "#### 4. What happens if you try to access spam['foo'] if spam is {'bar': 100}?"
   ]
  },
  {
   "cell_type": "markdown",
   "id": "0c95ddd7",
   "metadata": {},
   "source": [
    "Answers: - If you try to access spam['foo'] when spam is {'bar': 100}, it will raise a KeyError. This is because there is no key 'foo' in the spam dictionary."
   ]
  },
  {
   "cell_type": "markdown",
   "id": "9104e1d8",
   "metadata": {},
   "source": [
    "#### 5. If a dictionary is stored in spam, what is the difference between the expressions 'cat' in spam and 'cat' in spam.keys()?"
   ]
  },
  {
   "cell_type": "markdown",
   "id": "8cf5d15d",
   "metadata": {},
   "source": [
    "Answers: - If a dictionary is stored in spam, the expression 'cat' in spam checks if the string 'cat' is a key in the spam dictionary. It returns True if the key exists and False otherwise."
   ]
  },
  {
   "cell_type": "markdown",
   "id": "d809b4ec",
   "metadata": {},
   "source": [
    "#### 6. If a dictionary is stored in spam, what is the difference between the expressions 'cat' in spam and 'cat' in spam.values()?"
   ]
  },
  {
   "cell_type": "markdown",
   "id": "2c17ec4b",
   "metadata": {},
   "source": [
    "Answers: - If a dictionary is stored in spam, the expression 'cat' in spam.values() checks if the string 'cat' is a value in the spam dictionary. It returns True if the value exists and False otherwise."
   ]
  },
  {
   "cell_type": "markdown",
   "id": "3c315619",
   "metadata": {},
   "source": [
    "#### 7. What is a shortcut for the following code?\n",
    "\n",
    "##### if 'color' not in spam:\n",
    "##### spam['color'] = 'black'\n"
   ]
  },
  {
   "cell_type": "code",
   "execution_count": 3,
   "id": "448e6889",
   "metadata": {},
   "outputs": [
    {
     "name": "stdout",
     "output_type": "stream",
     "text": [
      "{'bar': 100, 'color': 'black'}\n"
     ]
    }
   ],
   "source": [
    "# A shortcut for the given code is to use the dict.setdefault() method:\n",
    "\n",
    "spam = {'bar': 100}\n",
    "spam.setdefault('color', 'black')\n",
    "print(spam)\n",
    "# This method checks if the key 'color' is already present in the spam dictionary. If it is, it returns the corresponding value. If it is not, it adds the key-value pair 'color': 'black' to the spam dictionary."
   ]
  },
  {
   "cell_type": "markdown",
   "id": "4cb640cd",
   "metadata": {},
   "source": [
    "#### 8. How do you \"pretty print\" dictionary values using which module and function?"
   ]
  },
  {
   "cell_type": "code",
   "execution_count": 4,
   "id": "f7187b01",
   "metadata": {},
   "outputs": [
    {
     "name": "stdout",
     "output_type": "stream",
     "text": [
      "{'age': 25, 'city': 'New York', 'name': 'John'}\n"
     ]
    }
   ],
   "source": [
    "# To \"pretty print\" dictionary values, you can use the pprint module's pprint() function. The pprint() function formats the dictionary in a more readable and organized manner.\n",
    "\n",
    "import pprint\n",
    "\n",
    "my_dict = {'name': 'John', 'age': 25, 'city': 'New York'}\n",
    "pprint.pprint(my_dict)\n"
   ]
  },
  {
   "cell_type": "code",
   "execution_count": null,
   "id": "340db26a",
   "metadata": {},
   "outputs": [],
   "source": []
  }
 ],
 "metadata": {
  "kernelspec": {
   "display_name": "Python 3",
   "language": "python",
   "name": "python3"
  },
  "language_info": {
   "codemirror_mode": {
    "name": "ipython",
    "version": 3
   },
   "file_extension": ".py",
   "mimetype": "text/x-python",
   "name": "python",
   "nbconvert_exporter": "python",
   "pygments_lexer": "ipython3",
   "version": "3.9.13"
  }
 },
 "nbformat": 4,
 "nbformat_minor": 5
}
