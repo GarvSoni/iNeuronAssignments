{
 "cells": [
  {
   "cell_type": "markdown",
   "id": "2324a2bc",
   "metadata": {},
   "source": [
    "Question 1:\n",
    "\n",
    "\n",
    "\n",
    "Define a class with a generator which can iterate the numbers, which are divisible by 7, between a given range 0 and n.\n"
   ]
  },
  {
   "cell_type": "code",
   "execution_count": 1,
   "id": "c4e49690",
   "metadata": {},
   "outputs": [
    {
     "name": "stdout",
     "output_type": "stream",
     "text": [
      "Enter a number: 719\n",
      "[0, 7, 14, 21, 28, 35, 42, 49, 56, 63, 70, 77, 84, 91, 98, 105, 112, 119, 126, 133, 140, 147, 154, 161, 168, 175, 182, 189, 196, 203, 210, 217, 224, 231, 238, 245, 252, 259, 266, 273, 280, 287, 294, 301, 308, 315, 322, 329, 336, 343, 350, 357, 364, 371, 378, 385, 392, 399, 406, 413, 420, 427, 434, 441, 448, 455, 462, 469, 476, 483, 490, 497, 504, 511, 518, 525, 532, 539, 546, 553, 560, 567, 574, 581, 588, 595, 602, 609, 616, 623, 630, 637, 644, 651, 658, 665, 672, 679, 686, 693, 700, 707, 714]\n"
     ]
    }
   ],
   "source": [
    "class DivisibleBySeven:\n",
    "    def __init__(self, n):\n",
    "        self.n = n\n",
    "\n",
    "    def divisible_by_seven_generator(self):\n",
    "        for i in range(self.n + 1):\n",
    "            if i % 7 == 0:\n",
    "                yield i\n",
    "\n",
    "\n",
    "n = int(input(\"Enter a number: \"))\n",
    "obj = DivisibleBySeven(n)\n",
    "result = [num for num in obj.divisible_by_seven_generator()]\n",
    "print(result)\n"
   ]
  },
  {
   "cell_type": "markdown",
   "id": "9c0d471b",
   "metadata": {},
   "source": [
    "Question 2:\n",
    "Write a program to compute the frequency of the words from the input. The output should output after sorting the key alphanumerically. \n",
    "\n",
    "\n",
    "\n",
    "\n",
    "Suppose the following input is supplied to the program:\n",
    "\n",
    "\n",
    "\n",
    "\n",
    "New to Python or choosing between Python 2 and Python 3? Read Python 2 or Python 3.\n",
    "\n",
    "\n",
    "\n",
    "\n",
    "Then, the output should be:\n",
    "\n",
    "\n",
    "\n",
    "\n",
    "2:2\n",
    "\n",
    "\n",
    "\n",
    "\n",
    "3.:1\n",
    "\n",
    "\n",
    "\n",
    "\n",
    "3?:1\n",
    "\n",
    "\n",
    "\n",
    "\n",
    "New:1\n",
    "\n",
    "\n",
    "\n",
    "\n",
    "Python:5\n",
    "\n",
    "\n",
    "\n",
    "\n",
    "Read:1\n",
    "\n",
    "\n",
    "\n",
    "\n",
    "and:1\n",
    "\n",
    "\n",
    "\n",
    "\n",
    "between:1\n",
    "\n",
    "\n",
    "\n",
    "\n",
    "choosing:1\n",
    "\n",
    "\n",
    "\n",
    "\n",
    "or:2\n",
    "\n",
    "\n",
    "\n",
    "to:1\n"
   ]
  },
  {
   "cell_type": "code",
   "execution_count": 2,
   "id": "ef66dbb5",
   "metadata": {},
   "outputs": [
    {
     "name": "stdout",
     "output_type": "stream",
     "text": [
      "Enter a sentence: Hello My name is Garv!\n",
      "Garv!:1\n",
      "Hello:1\n",
      "My:1\n",
      "is:1\n",
      "name:1\n"
     ]
    }
   ],
   "source": [
    "from collections import Counter\n",
    "\n",
    "input_str = input(\"Enter a sentence: \")\n",
    "words = input_str.split()\n",
    "word_count = Counter(words)\n",
    "sorted_word_count = sorted(word_count.items(), key=lambda x: x[0])\n",
    "for word, count in sorted_word_count:\n",
    "    print(f\"{word}:{count}\")\n"
   ]
  },
  {
   "cell_type": "markdown",
   "id": "322bcbf2",
   "metadata": {},
   "source": [
    "Question 3:\n",
    "\n",
    "\n",
    "\n",
    "\n",
    "\n",
    "\n",
    "\n",
    "\n",
    "\n",
    "Define a class Person and its two child classes: Male and Female. All classes have a method \"getGender\" which can print \"Male\" for Male class and \"Female\" for Female class.\n"
   ]
  },
  {
   "cell_type": "code",
   "execution_count": 3,
   "id": "57e2390a",
   "metadata": {},
   "outputs": [
    {
     "name": "stdout",
     "output_type": "stream",
     "text": [
      "Male\n",
      "Female\n"
     ]
    }
   ],
   "source": [
    "class Person:\n",
    "    def get_gender(self):\n",
    "        return \"Unknown\"\n",
    "\n",
    "\n",
    "class Male(Person):\n",
    "    def get_gender(self):\n",
    "        return \"Male\"\n",
    "\n",
    "\n",
    "class Female(Person):\n",
    "    def get_gender(self):\n",
    "        return \"Female\"\n",
    "\n",
    "\n",
    "person1 = Male()\n",
    "person2 = Female()\n",
    "print(person1.get_gender())\n",
    "print(person2.get_gender())\n"
   ]
  },
  {
   "cell_type": "markdown",
   "id": "5c490aa1",
   "metadata": {},
   "source": [
    "Question 4:\n",
    "Please write a program to generate all sentences where subject is in [\"I\", \"You\"] and verb is in [\"Play\", \"Love\"] and the object is in [\"Hockey\",\"Football\"].\n"
   ]
  },
  {
   "cell_type": "code",
   "execution_count": 4,
   "id": "86e6896d",
   "metadata": {},
   "outputs": [
    {
     "name": "stdout",
     "output_type": "stream",
     "text": [
      "I Play Hockey\n",
      "I Play Football\n",
      "I Love Hockey\n",
      "I Love Football\n",
      "You Play Hockey\n",
      "You Play Football\n",
      "You Love Hockey\n",
      "You Love Football\n"
     ]
    }
   ],
   "source": [
    "subjects = [\"I\", \"You\"]\n",
    "verbs = [\"Play\", \"Love\"]\n",
    "objects = [\"Hockey\", \"Football\"]\n",
    "\n",
    "sentences = [(subject, verb, obj) for subject in subjects for verb in verbs for obj in objects]\n",
    "for sentence in sentences:\n",
    "    print(' '.join(sentence))\n"
   ]
  },
  {
   "cell_type": "markdown",
   "id": "a3a289fe",
   "metadata": {},
   "source": [
    "\n",
    "Question 5:\n",
    "Please write a program to compress and decompress the string \"hello world!hello world!hello world!hello world!\".\n"
   ]
  },
  {
   "cell_type": "code",
   "execution_count": 5,
   "id": "5e180725",
   "metadata": {},
   "outputs": [
    {
     "name": "stdout",
     "output_type": "stream",
     "text": [
      "hello world!hello world!hello world!hello world!\n"
     ]
    }
   ],
   "source": [
    "import zlib\n",
    "\n",
    "string = \"hello world!hello world!hello world!hello world!\"\n",
    "compressed_string = zlib.compress(bytes(string, 'utf-8'))\n",
    "decompressed_string = zlib.decompress(compressed_string)\n",
    "print(decompressed_string.decode('utf-8'))\n"
   ]
  },
  {
   "cell_type": "markdown",
   "id": "1b41812f",
   "metadata": {},
   "source": [
    "\n",
    "Question 6:\n",
    "Please write a binary search function which searches an item in a sorted list. The function should return the index of element to be searched in the list.\n"
   ]
  },
  {
   "cell_type": "code",
   "execution_count": 6,
   "id": "b9ae4a0f",
   "metadata": {},
   "outputs": [
    {
     "name": "stdout",
     "output_type": "stream",
     "text": [
      "Enter the item to search: 11\n",
      "Index of 11 in the list: 5\n"
     ]
    }
   ],
   "source": [
    "def binary_search(arr, item):\n",
    "    low = 0\n",
    "    high = len(arr) - 1\n",
    "\n",
    "    while low <= high:\n",
    "        mid = (low + high) // 2\n",
    "        guess = arr[mid]\n",
    "\n",
    "        if guess == item:\n",
    "            return mid\n",
    "\n",
    "        if guess > item:\n",
    "            high = mid - 1\n",
    "        else:\n",
    "            low = mid + 1\n",
    "\n",
    "    return -1\n",
    "\n",
    "\n",
    "sorted_list = [1, 3, 5, 7, 9, 11, 13]\n",
    "item_to_search = int(input(\"Enter the item to search: \"))\n",
    "index = binary_search(sorted_list, item_to_search)\n",
    "print(f\"Index of {item_to_search} in the list: {index}\")\n"
   ]
  }
 ],
 "metadata": {
  "kernelspec": {
   "display_name": "Python 3",
   "language": "python",
   "name": "python3"
  },
  "language_info": {
   "codemirror_mode": {
    "name": "ipython",
    "version": 3
   },
   "file_extension": ".py",
   "mimetype": "text/x-python",
   "name": "python",
   "nbconvert_exporter": "python",
   "pygments_lexer": "ipython3",
   "version": "3.9.13"
  }
 },
 "nbformat": 4,
 "nbformat_minor": 5
}
