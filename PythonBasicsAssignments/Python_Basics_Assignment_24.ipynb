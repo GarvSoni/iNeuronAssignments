{
 "cells": [
  {
   "cell_type": "markdown",
   "id": "88baea99",
   "metadata": {},
   "source": [
    "1. What is the relationship between def statements and lambda expressions ?\n"
   ]
  },
  {
   "cell_type": "markdown",
   "id": "e4d5fcf5",
   "metadata": {},
   "source": [
    "- Both def statements and lambda expressions are used to define functions in Python.\n",
    "- The main difference is that def statements are used to create named functions, while lambda expressions are used to create anonymous functions."
   ]
  },
  {
   "cell_type": "markdown",
   "id": "3bfc2284",
   "metadata": {},
   "source": [
    "2. What is the benefit of lambda?"
   ]
  },
  {
   "cell_type": "markdown",
   "id": "4fa9a37a",
   "metadata": {},
   "source": [
    "- The benefit of lambda expressions is that they allow you to create small, one-line functions without the need for a formal function definition.\n",
    "- Lambda expressions are often used in situations where a function is required as an argument to another function, such as in higher-order functions like map, filter, and sort."
   ]
  },
  {
   "cell_type": "markdown",
   "id": "94ebcc77",
   "metadata": {},
   "source": [
    "3. Compare and contrast map, filter, and reduce."
   ]
  },
  {
   "cell_type": "markdown",
   "id": "5916f50f",
   "metadata": {},
   "source": [
    "- map: The map function applies a given function to each item in an iterable and returns a new iterable with the results. It applies the function element-wise.\n",
    "- filter: The filter function applies a given function to each item in an iterable and returns a new iterable containing only the items for which the function returns True. It filters out the items based on the function's result.\n",
    "- reduce: The reduce function applies a given function to the first two elements of an iterable, then applies it to the result and the next element, and continues until all elements have been processed. It reduces the iterable to a single value."
   ]
  },
  {
   "cell_type": "markdown",
   "id": "c682ca4a",
   "metadata": {},
   "source": [
    "4. What are function annotations, and how are they used?"
   ]
  },
  {
   "cell_type": "markdown",
   "id": "1171d57d",
   "metadata": {},
   "source": [
    "- Function annotations are a way to attach arbitrary metadata to the parameters and return value of a function.\n",
    "- They are defined using the : syntax after the parameter or return value declaration.\n",
    "- Function annotations can be used to provide type hints, document the function's behavior, or provide other forms of metadata.\n",
    "- They do not affect the runtime behavior of the function but can be accessed using the __annotations__ attribute of the function object."
   ]
  },
  {
   "cell_type": "markdown",
   "id": "5c0a8713",
   "metadata": {},
   "source": [
    "5. What are recursive functions, and how are they used?"
   ]
  },
  {
   "cell_type": "markdown",
   "id": "ea909105",
   "metadata": {},
   "source": [
    "- Recursive functions are functions that call themselves directly or indirectly in their own definition.\n",
    "- They are used to solve problems that can be broken down into smaller, similar subproblems.\n",
    "- Recursive functions typically have a base case that defines the termination condition, and a recursive case that calls the function again with a smaller input."
   ]
  },
  {
   "cell_type": "markdown",
   "id": "40dd0317",
   "metadata": {},
   "source": [
    "6. What are some general design guidelines for coding functions?"
   ]
  },
  {
   "cell_type": "markdown",
   "id": "22a1e493",
   "metadata": {},
   "source": [
    "- Functions should have a clear purpose and do one thing well (follow the single responsibility principle).\n",
    "- Functions should have descriptive names that accurately reflect their purpose.\n",
    "- Functions should have a consistent and predictable behavior.\n",
    "- Functions should be modular and reusable, avoiding unnecessary dependencies and side effects.\n",
    "- Functions should use meaningful and consistent parameter names.\n",
    "- Functions should have a clear and documented interface (including parameter types and return values) to facilitate - - understanding and proper usage."
   ]
  },
  {
   "cell_type": "markdown",
   "id": "53863811",
   "metadata": {},
   "source": [
    "7. Name three or more ways that functions can communicate results to a caller."
   ]
  },
  {
   "cell_type": "markdown",
   "id": "7bd01e17",
   "metadata": {},
   "source": [
    "- Functions can communicate results to a caller through return values. The caller can capture the returned value and use it for further processing.\n",
    "- Functions can modify mutable objects passed as arguments, and the modifications will be visible to the caller.\n",
    "- Functions can raise exceptions to indicate errors or exceptional conditions to the caller.\n",
    "- Functions can also use side effects to communicate results, such as printing output to the console or writing to a file."
   ]
  }
 ],
 "metadata": {
  "kernelspec": {
   "display_name": "Python 3",
   "language": "python",
   "name": "python3"
  },
  "language_info": {
   "codemirror_mode": {
    "name": "ipython",
    "version": 3
   },
   "file_extension": ".py",
   "mimetype": "text/x-python",
   "name": "python",
   "nbconvert_exporter": "python",
   "pygments_lexer": "ipython3",
   "version": "3.9.13"
  }
 },
 "nbformat": 4,
 "nbformat_minor": 5
}
