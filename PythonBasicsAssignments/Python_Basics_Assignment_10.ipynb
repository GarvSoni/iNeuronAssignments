{
 "cells": [
  {
   "cell_type": "markdown",
   "id": "7a529fb0",
   "metadata": {},
   "source": [
    "1. How do you distinguish between shutil.copy() and shutil.copytree()?"
   ]
  },
  {
   "cell_type": "markdown",
   "id": "c55c707e",
   "metadata": {},
   "source": [
    "Answer: - \n",
    "- The shutil.copy() function is used to copy a single file from one location to another. It takes two arguments: the source file path and the destination file path. If the destination file already exists, it will be overwritten.\n",
    "- On the other hand, the shutil.copytree() function is used to recursively copy an entire directory tree from the source to the destination. It creates a new directory and copies all the files and subdirectories from the source directory to the destination directory. If the destination directory already exists, an error will be raised."
   ]
  },
  {
   "cell_type": "markdown",
   "id": "b3e58a7c",
   "metadata": {},
   "source": [
    "2. What function is used to rename files??"
   ]
  },
  {
   "cell_type": "markdown",
   "id": "305bbd72",
   "metadata": {},
   "source": [
    "Answer: - \n",
    "- The os.rename() function is used to rename files. It takes two arguments: the current name of the file and the new name of the file. Here's an example:"
   ]
  },
  {
   "cell_type": "code",
   "execution_count": 1,
   "id": "850759b8",
   "metadata": {},
   "outputs": [],
   "source": [
    "import os\n",
    "os.rename('C:/Users/LENOVO/Downloads/Assignment_10.docx', 'C:/Users/LENOVO/Downloads/Python_Basics_Assignment_10.docx')"
   ]
  },
  {
   "cell_type": "markdown",
   "id": "9d3b9978",
   "metadata": {},
   "source": [
    "3. What is the difference between the delete functions in the send2trash and shutil modules?"
   ]
  },
  {
   "cell_type": "markdown",
   "id": "a8e61335",
   "metadata": {},
   "source": [
    "The send2trash and shutil modules provide different ways to delete files and directories:\n",
    "- The send2trash module provides a send2trash() function that sends files or directories to the operating system's trash or recycle bin instead of permanently deleting them. This allows for the possibility of restoring the deleted files later if needed.\n",
    "\n",
    "- The shutil module provides various functions for file and directory operations, including shutil.rmtree() which is used to delete an entire directory tree permanently. When you use shutil.rmtree(), the files and directories are not moved to the trash or recycle bin but are directly deleted from the system."
   ]
  },
  {
   "cell_type": "markdown",
   "id": "28e7a18a",
   "metadata": {},
   "source": [
    "4. ZipFile objects have a close() method just like File objects’ close() method. What ZipFile method is equivalent to File objects’ open() method?"
   ]
  },
  {
   "cell_type": "markdown",
   "id": "5fbbcfd9",
   "metadata": {},
   "source": [
    "Answer: - The ZipFile class in the zipfile module provides the open() method to open a ZIP file for reading or writing. This method is similar to the open() method for regular file objects.\n",
    "- To open a ZIP file for reading, you can use the ZipFile constructor and pass the path to the ZIP file. Here's an example:"
   ]
  },
  {
   "cell_type": "code",
   "execution_count": 14,
   "id": "64d31310",
   "metadata": {},
   "outputs": [
    {
     "name": "stdout",
     "output_type": "stream",
     "text": [
      "deep_learning-main/\n",
      "deep_learning-main/DL_001.pdf\n"
     ]
    }
   ],
   "source": [
    "import zipfile\n",
    "\n",
    "# Open a ZIP file for reading\n",
    "zip = zipfile.ZipFile('C:/Users/LENOVO/Downloads/deep_learning-main.zip', 'r')\n",
    "\n",
    "# Print the files present in the ZIP\n",
    "file_list = zip.namelist()\n",
    "for file in file_list:\n",
    "    print(file)\n",
    "\n",
    "# Close the ZIP file\n",
    "zip.close()\n"
   ]
  },
  {
   "cell_type": "markdown",
   "id": "f69ea456",
   "metadata": {},
   "source": [
    "5. Create a programme that searches a folder tree for files with a certain file extension (such as .pdf or .jpg). Copy these files from whatever location they are in to a new folder."
   ]
  },
  {
   "cell_type": "markdown",
   "id": "3ef3dbe1",
   "metadata": {},
   "source": [
    "Answer: - Here's a program that searches a folder tree for files with a specific file extension and copies them to a new folder:"
   ]
  },
  {
   "cell_type": "code",
   "execution_count": 8,
   "id": "9670bfcd",
   "metadata": {},
   "outputs": [
    {
     "name": "stdout",
     "output_type": "stream",
     "text": [
      "Copied Data Science answers.docx to D:/course/classes/ineuronAssignementsNB/copy/copy_here\\Data Science answers.docx\n",
      "Copied Data Science answers.docx to D:/course/classes/ineuronAssignementsNB/copy/copy_here\\Data Science answers_copy.docx\n"
     ]
    }
   ],
   "source": [
    "import os\n",
    "import shutil\n",
    "\n",
    "def copy_files_by_extension(source_folder, target_folder, file_extension):\n",
    "    for root, dirs, files in os.walk(source_folder):\n",
    "        for file in files:\n",
    "            if file.endswith(file_extension):\n",
    "                source_path = os.path.join(root, file)\n",
    "                target_path = os.path.join(target_folder, file)\n",
    "                \n",
    "                if os.path.exists(target_path):\n",
    "                    # Rename the existing file in the target folder\n",
    "                    filename, extension = os.path.splitext(file)\n",
    "                    new_filename = filename + '_copy' + extension\n",
    "                    target_path = os.path.join(target_folder, new_filename)\n",
    "                \n",
    "                shutil.copy2(source_path, target_path)\n",
    "                print(f\"Copied {file} to {target_path}\")\n",
    "                \n",
    "                # Break the loop after the file is copied once\n",
    "                break\n",
    "\n",
    "# Example usage\n",
    "source_folder = 'D:/course/classes/ineuronAssignementsNB/copy'\n",
    "target_folder = 'D:/course/classes/ineuronAssignementsNB/copy/copy_here'\n",
    "file_extension = '.docx'\n",
    "\n",
    "copy_files_by_extension(source_folder, target_folder, file_extension)\n"
   ]
  },
  {
   "cell_type": "markdown",
   "id": "56ec6f57",
   "metadata": {},
   "source": [
    "In this program, you need to provide the source_folder which is the root folder from which the search will start, the target_folder where the matching files will be copied, and the file_extension to filter the files you want to copy. The shutil.copy2() function is used to copy the files while preserving their metadata."
   ]
  }
 ],
 "metadata": {
  "kernelspec": {
   "display_name": "Python 3",
   "language": "python",
   "name": "python3"
  },
  "language_info": {
   "codemirror_mode": {
    "name": "ipython",
    "version": 3
   },
   "file_extension": ".py",
   "mimetype": "text/x-python",
   "name": "python",
   "nbconvert_exporter": "python",
   "pygments_lexer": "ipython3",
   "version": "3.9.13"
  }
 },
 "nbformat": 4,
 "nbformat_minor": 5
}
