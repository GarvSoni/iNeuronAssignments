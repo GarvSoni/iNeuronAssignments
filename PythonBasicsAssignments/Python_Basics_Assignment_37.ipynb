{
 "cells": [
  {
   "cell_type": "markdown",
   "id": "787d04e1",
   "metadata": {},
   "source": [
    "Write a Python program to Extract Unique values dictionary values?"
   ]
  },
  {
   "cell_type": "code",
   "execution_count": 1,
   "id": "c24872d2",
   "metadata": {},
   "outputs": [
    {
     "name": "stdout",
     "output_type": "stream",
     "text": [
      "{1, 2, 3}\n"
     ]
    }
   ],
   "source": [
    "def extract_unique_values(dictionary):\n",
    "    unique_values = set(dictionary.values())\n",
    "    return unique_values\n",
    "\n",
    "# Example usage\n",
    "my_dict = {'a': 1, 'b': 2, 'c': 1, 'd': 3}\n",
    "unique_values = extract_unique_values(my_dict)\n",
    "print(unique_values)\n"
   ]
  },
  {
   "cell_type": "markdown",
   "id": "535fd3b2",
   "metadata": {},
   "source": [
    "Write a Python program to find the sum of all items in a dictionary?"
   ]
  },
  {
   "cell_type": "code",
   "execution_count": 2,
   "id": "4c45955b",
   "metadata": {},
   "outputs": [
    {
     "name": "stdout",
     "output_type": "stream",
     "text": [
      "60\n"
     ]
    }
   ],
   "source": [
    "def sum_dictionary_items(dictionary):\n",
    "    total = sum(dictionary.values())\n",
    "    return total\n",
    "\n",
    "# Example usage\n",
    "my_dict = {'a': 10, 'b': 20, 'c': 30}\n",
    "total_sum = sum_dictionary_items(my_dict)\n",
    "print(total_sum)\n"
   ]
  },
  {
   "cell_type": "markdown",
   "id": "da7f938d",
   "metadata": {},
   "source": [
    "Write a Python program to Merging two Dictionaries?"
   ]
  },
  {
   "cell_type": "code",
   "execution_count": 3,
   "id": "39b27a8d",
   "metadata": {},
   "outputs": [
    {
     "name": "stdout",
     "output_type": "stream",
     "text": [
      "{'a': 1, 'b': 2, 'c': 3, 'd': 4}\n"
     ]
    }
   ],
   "source": [
    "def merge_dictionaries(dict1, dict2):\n",
    "    merged_dict = {**dict1, **dict2}\n",
    "    return merged_dict\n",
    "\n",
    "# Example usage\n",
    "dict1 = {'a': 1, 'b': 2}\n",
    "dict2 = {'c': 3, 'd': 4}\n",
    "merged_dict = merge_dictionaries(dict1, dict2)\n",
    "print(merged_dict)\n"
   ]
  },
  {
   "cell_type": "markdown",
   "id": "46158bd7",
   "metadata": {},
   "source": [
    "Write a Python program to convert key-values list to flat dictionary?"
   ]
  },
  {
   "cell_type": "code",
   "execution_count": 4,
   "id": "061c4b8c",
   "metadata": {},
   "outputs": [
    {
     "name": "stdout",
     "output_type": "stream",
     "text": [
      "{'a': 1, 'b': 2, 'c': 3}\n"
     ]
    }
   ],
   "source": [
    "def convert_to_flat_dictionary(keys, values):\n",
    "    flat_dict = dict(zip(keys, values))\n",
    "    return flat_dict\n",
    "\n",
    "# Example usage\n",
    "keys = ['a', 'b', 'c']\n",
    "values = [1, 2, 3]\n",
    "flat_dict = convert_to_flat_dictionary(keys, values)\n",
    "print(flat_dict)\n"
   ]
  },
  {
   "cell_type": "markdown",
   "id": "5b2d82ac",
   "metadata": {},
   "source": [
    "Write a Python program to insertion at the beginning in OrderedDict?"
   ]
  },
  {
   "cell_type": "code",
   "execution_count": 5,
   "id": "b2f0dd90",
   "metadata": {},
   "outputs": [
    {
     "name": "stdout",
     "output_type": "stream",
     "text": [
      "OrderedDict([('c', 3), ('a', 1), ('b', 2)])\n"
     ]
    }
   ],
   "source": [
    "from collections import OrderedDict\n",
    "\n",
    "def insert_at_beginning(odict, key, value):\n",
    "    odict[key] = value\n",
    "    odict.move_to_end(key, last=False)\n",
    "    return odict\n",
    "\n",
    "# Example usage\n",
    "od = OrderedDict([('a', 1), ('b', 2)])\n",
    "od = insert_at_beginning(od, 'c', 3)\n",
    "print(od)\n"
   ]
  },
  {
   "cell_type": "markdown",
   "id": "4e2221bd",
   "metadata": {},
   "source": [
    "Write a Python program to check order of character in string using OrderedDict()?"
   ]
  },
  {
   "cell_type": "code",
   "execution_count": 6,
   "id": "9bfce157",
   "metadata": {},
   "outputs": [
    {
     "name": "stdout",
     "output_type": "stream",
     "text": [
      "python\n"
     ]
    }
   ],
   "source": [
    "from collections import OrderedDict\n",
    "\n",
    "def check_order_of_characters(string):\n",
    "    ordered_dict = OrderedDict.fromkeys(string)\n",
    "    return ''.join(ordered_dict.keys())\n",
    "\n",
    "# Example usage\n",
    "string = 'python'\n",
    "order = check_order_of_characters(string)\n",
    "print(order)\n"
   ]
  },
  {
   "cell_type": "markdown",
   "id": "4b23aec8",
   "metadata": {},
   "source": [
    "Write a Python program to sort Python Dictionaries by Key or Value?"
   ]
  },
  {
   "cell_type": "code",
   "execution_count": 7,
   "id": "0c2a8d08",
   "metadata": {},
   "outputs": [
    {
     "name": "stdout",
     "output_type": "stream",
     "text": [
      "{'a': 1, 'b': 2, 'c': 3, 'd': 4}\n",
      "{'a': 1, 'b': 2, 'c': 3, 'd': 4}\n"
     ]
    }
   ],
   "source": [
    "def sort_dictionary_by_key(dictionary):\n",
    "    sorted_dict = dict(sorted(dictionary.items()))\n",
    "    return sorted_dict\n",
    "\n",
    "def sort_dictionary_by_value(dictionary):\n",
    "    sorted_dict = dict(sorted(dictionary.items(), key=lambda item: item[1]))\n",
    "    return sorted_dict\n",
    "\n",
    "# Example usage\n",
    "my_dict = {'b': 2, 'a': 1, 'd': 4, 'c': 3}\n",
    "sorted_by_key = sort_dictionary_by_key(my_dict)\n",
    "sorted_by_value = sort_dictionary_by_value(my_dict)\n",
    "print(sorted_by_key)\n",
    "print(sorted_by_value)\n"
   ]
  }
 ],
 "metadata": {
  "kernelspec": {
   "display_name": "Python 3",
   "language": "python",
   "name": "python3"
  },
  "language_info": {
   "codemirror_mode": {
    "name": "ipython",
    "version": 3
   },
   "file_extension": ".py",
   "mimetype": "text/x-python",
   "name": "python",
   "nbconvert_exporter": "python",
   "pygments_lexer": "ipython3",
   "version": "3.9.13"
  }
 },
 "nbformat": 4,
 "nbformat_minor": 5
}
